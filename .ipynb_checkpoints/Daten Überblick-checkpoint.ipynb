{
 "cells": [
  {
   "cell_type": "markdown",
   "metadata": {},
   "source": [
    "### Daten einlesen und in einer Tabelle visualisiern"
   ]
  },
  {
   "cell_type": "code",
   "execution_count": 3,
   "metadata": {},
   "outputs": [
    {
     "data": {
      "text/html": [
       "<div>\n",
       "<style scoped>\n",
       "    .dataframe tbody tr th:only-of-type {\n",
       "        vertical-align: middle;\n",
       "    }\n",
       "\n",
       "    .dataframe tbody tr th {\n",
       "        vertical-align: top;\n",
       "    }\n",
       "\n",
       "    .dataframe thead th {\n",
       "        text-align: right;\n",
       "    }\n",
       "</style>\n",
       "<table border=\"1\" class=\"dataframe\">\n",
       "  <thead>\n",
       "    <tr style=\"text-align: right;\">\n",
       "      <th></th>\n",
       "      <th>pid</th>\n",
       "      <th>BRAND</th>\n",
       "    </tr>\n",
       "  </thead>\n",
       "  <tbody>\n",
       "    <tr>\n",
       "      <td>0</td>\n",
       "      <td>66605</td>\n",
       "      <td>BRAND_0</td>\n",
       "    </tr>\n",
       "    <tr>\n",
       "      <td>1</td>\n",
       "      <td>66715</td>\n",
       "      <td>BRAND_0</td>\n",
       "    </tr>\n",
       "    <tr>\n",
       "      <td>2</td>\n",
       "      <td>66756</td>\n",
       "      <td>BRAND_0</td>\n",
       "    </tr>\n",
       "    <tr>\n",
       "      <td>3</td>\n",
       "      <td>66774</td>\n",
       "      <td>BRAND_0</td>\n",
       "    </tr>\n",
       "    <tr>\n",
       "      <td>4</td>\n",
       "      <td>66794</td>\n",
       "      <td>BRAND_0</td>\n",
       "    </tr>\n",
       "  </tbody>\n",
       "</table>\n",
       "</div>"
      ],
      "text/plain": [
       "     pid    BRAND\n",
       "0  66605  BRAND_0\n",
       "1  66715  BRAND_0\n",
       "2  66756  BRAND_0\n",
       "3  66774  BRAND_0\n",
       "4  66794  BRAND_0"
      ]
     },
     "execution_count": 3,
     "metadata": {},
     "output_type": "execute_result"
    }
   ],
   "source": [
    "import pandas as pd\n",
    "import numpy as np\n",
    "\n",
    "brands = pd.read_csv('./Data-out/brands.csv', sep =\",\")\n",
    "brands.head()"
   ]
  },
  {
   "cell_type": "code",
   "execution_count": 10,
   "metadata": {},
   "outputs": [
    {
     "name": "stdout",
     "output_type": "stream",
     "text": [
      "Anzahl der Einträge: 263253\n"
     ]
    }
   ],
   "source": [
    "print(\"Anzahl der Einträge: {}\".format(len(brands.pid)))"
   ]
  },
  {
   "cell_type": "code",
   "execution_count": 11,
   "metadata": {},
   "outputs": [
    {
     "data": {
      "text/html": [
       "<div>\n",
       "<style scoped>\n",
       "    .dataframe tbody tr th:only-of-type {\n",
       "        vertical-align: middle;\n",
       "    }\n",
       "\n",
       "    .dataframe tbody tr th {\n",
       "        vertical-align: top;\n",
       "    }\n",
       "\n",
       "    .dataframe thead th {\n",
       "        text-align: right;\n",
       "    }\n",
       "</style>\n",
       "<table border=\"1\" class=\"dataframe\">\n",
       "  <thead>\n",
       "    <tr style=\"text-align: right;\">\n",
       "      <th></th>\n",
       "      <th>pid</th>\n",
       "      <th>CHANNEL</th>\n",
       "    </tr>\n",
       "  </thead>\n",
       "  <tbody>\n",
       "    <tr>\n",
       "      <td>0</td>\n",
       "      <td>61</td>\n",
       "      <td>Onlineshop</td>\n",
       "    </tr>\n",
       "    <tr>\n",
       "      <td>1</td>\n",
       "      <td>142</td>\n",
       "      <td>Onlineshop</td>\n",
       "    </tr>\n",
       "    <tr>\n",
       "      <td>2</td>\n",
       "      <td>194</td>\n",
       "      <td>Onlineshop</td>\n",
       "    </tr>\n",
       "    <tr>\n",
       "      <td>3</td>\n",
       "      <td>247</td>\n",
       "      <td>Onlineshop</td>\n",
       "    </tr>\n",
       "    <tr>\n",
       "      <td>4</td>\n",
       "      <td>250</td>\n",
       "      <td>Onlineshop</td>\n",
       "    </tr>\n",
       "  </tbody>\n",
       "</table>\n",
       "</div>"
      ],
      "text/plain": [
       "   pid     CHANNEL\n",
       "0   61  Onlineshop\n",
       "1  142  Onlineshop\n",
       "2  194  Onlineshop\n",
       "3  247  Onlineshop\n",
       "4  250  Onlineshop"
      ]
     },
     "execution_count": 11,
     "metadata": {},
     "output_type": "execute_result"
    }
   ],
   "source": [
    "channels = pd.read_csv('./Data-out/channels.csv', sep =\",\")\n",
    "channels.head()"
   ]
  },
  {
   "cell_type": "code",
   "execution_count": 12,
   "metadata": {},
   "outputs": [
    {
     "name": "stdout",
     "output_type": "stream",
     "text": [
      "Anzahl der Einträge: 221902\n",
      "['Onlineshop' 'Telesales' 'Telemarketing']\n"
     ]
    }
   ],
   "source": [
    "print(\"Anzahl der Einträge: {}\".format(len(channels.pid)))\n",
    "print(\"Auflistung der verschiedenen Channels: \\n {}\".format(channels.CHANNEL.unique())))"
   ]
  },
  {
   "cell_type": "code",
   "execution_count": 41,
   "metadata": {},
   "outputs": [
    {
     "name": "stdout",
     "output_type": "stream",
     "text": [
      "     pid            DTYPE\n",
      "0  63422   DEVICE_TYPE_23\n",
      "1  63423  DEVICE_TYPE_156\n",
      "2  63424  DEVICE_TYPE_111\n",
      "3  63425   DEVICE_TYPE_99\n",
      "4  63426  DEVICE_TYPE_135\n",
      "(128140, 2)\n",
      "Anzahl verschiedener Device: 161\n"
     ]
    }
   ],
   "source": [
    "devices = pd.read_csv('./Data-out/devices.csv', sep = \",\")\n",
    "print(devices.head())\n",
    "print(devices.shape)\n",
    "print(\"Anzahl verschiedener Device: {}\".format(devices.DTYPE.unique().size))\n"
   ]
  },
  {
   "cell_type": "code",
   "execution_count": 42,
   "metadata": {},
   "outputs": [
    {
     "name": "stdout",
     "output_type": "stream",
     "text": [
      "     pid     SIM\n",
      "0  63422  SIM_14\n",
      "1  63423  SIM_14\n",
      "2  63424  SIM_14\n",
      "3  63425  SIM_14\n",
      "4  63427  SIM_36\n",
      "(102822, 2)\n"
     ]
    }
   ],
   "source": [
    "sim = pd.read_csv('./Data-out/sim.csv', sep = \",\")\n",
    "print(sim.head())\n",
    "print(sim.shape)"
   ]
  },
  {
   "cell_type": "code",
   "execution_count": 24,
   "metadata": {},
   "outputs": [
    {
     "name": "stdout",
     "output_type": "stream",
     "text": [
      "     pid            TARIFF\n",
      "0  63422  TARIFF_OPTION_87\n",
      "1  63423  TARIFF_OPTION_87\n",
      "2  63424  TARIFF_OPTION_88\n",
      "3  63425  TARIFF_OPTION_87\n",
      "4  63426  TARIFF_OPTION_87\n"
     ]
    },
    {
     "data": {
      "text/plain": [
       "(136947, 2)"
      ]
     },
     "execution_count": 24,
     "metadata": {},
     "output_type": "execute_result"
    }
   ],
   "source": [
    "tariffs = pd.read_csv('./Data-out/tariffs.csv', sep = \",\")\n",
    "print(tariffs.head())\n",
    "tariffs.shape"
   ]
  },
  {
   "cell_type": "code",
   "execution_count": 50,
   "metadata": {},
   "outputs": [
    {
     "name": "stdout",
     "output_type": "stream",
     "text": [
      "   case                         event                   ts\n",
      "0     2                Order imported  2018-09-02 00:02:33\n",
      "1     2            Suspicious (Fraud)  2018-09-02 00:02:46\n",
      "2     2                 Order checked  2018-09-03 14:26:03\n",
      "3     2               Device hand-out  2018-09-03 14:27:56\n",
      "4     2  Ready for payment processing  2018-09-03 14:27:56\n",
      "Activated\n",
      "Address correction\n",
      "Cancellation requested\n",
      "Cancelled\n",
      "Cancelled (SYS-1)\n",
      "Cancelled (SYS-2)\n",
      "Comment\n",
      "Customer ID error\n",
      "Customer ID transmitted\n",
      "Customer follow-up\n",
      "Delivered\n",
      "Delivery approved\n",
      "Delivery method changed (SYS-2)\n",
      "Device hand-out\n",
      "Documents complete (ERP)\n",
      "Export from online shop\n",
      "Further inquiry\n",
      "Goods in arrears\n",
      "IMEI correction\n",
      "In delivery\n",
      "Inquiry answered\n",
      "Invoiced\n",
      "Manual identification\n",
      "Manual processing\n",
      "Not delivered (ERP)\n",
      "Order blacklisted\n",
      "Order captured\n",
      "Order checked\n",
      "Order creation failed (ERP)\n",
      "Order creation failed (SYS-2)\n",
      "Order imported\n",
      "Order incorrect\n",
      "Order rejecected\n",
      "Personal offer\n",
      "Personal offer accepted\n",
      "Personal offer rejected (no reaction)\n",
      "Personal offer rejected by customer\n",
      "Printed (ERP)\n",
      "Processing return delivery\n",
      "Ready for payment processing\n",
      "Ready to deliver\n",
      "Refund\n",
      "Rejected (SYS-2)\n",
      "Return delivered (Device only)\n",
      "Return delivered (contract cancellation)\n",
      "Return delivered (contract not cancelled)\n",
      "Return delivery approved\n",
      "Return delivery initiated\n",
      "Suspicious (Fraud)\n"
     ]
    }
   ],
   "source": [
    "dataset1 = pd.read_csv('./Data-out/hda_dataset_uniform_random_0.csv', sep = \",\")\n",
    "print(dataset1.head())\n",
    "dataset1.shape\n",
    "\n",
    "data_array = dataset1.event.unique()\n",
    "data_array.sort()\n",
    "for i in data_array:\n",
    "    print(i)"
   ]
  },
  {
   "cell_type": "code",
   "execution_count": 49,
   "metadata": {},
   "outputs": [
    {
     "name": "stdout",
     "output_type": "stream",
     "text": [
      "   case                    event                   ts\n",
      "0    17  Export from online shop  2018-09-02 00:11:55\n",
      "1    17           Order imported  2018-09-02 00:27:29\n",
      "2    17            Order checked  2018-09-02 00:27:41\n",
      "3    17          Device hand-out  2018-09-02 00:34:56\n",
      "4    17        Delivery approved  2018-09-02 00:34:56\n",
      "Activated\n",
      "Address correction\n",
      "Cancellation requested\n",
      "Cancelled\n",
      "Cancelled (SYS-1)\n",
      "Cancelled (SYS-2)\n",
      "Comment\n",
      "Customer ID error\n",
      "Customer ID transmitted\n",
      "Customer follow-up\n",
      "Delivered\n",
      "Delivery approved\n",
      "Delivery method changed (SYS-2)\n",
      "Device hand-out\n",
      "Documents complete (ERP)\n",
      "Export from online shop\n",
      "Further inquiry\n",
      "Goods in arrears\n",
      "IMEI correction\n",
      "In delivery\n",
      "Inquiry answered\n",
      "Invoiced\n",
      "Manual identification\n",
      "Manual processing\n",
      "Not delivered (ERP)\n",
      "Order blacklisted\n",
      "Order captured\n",
      "Order checked\n",
      "Order creation failed (ERP)\n",
      "Order creation failed (SYS-2)\n",
      "Order imported\n",
      "Order incorrect\n",
      "Order rejecected\n",
      "Personal offer\n",
      "Personal offer accepted\n",
      "Personal offer rejected (no reaction)\n",
      "Personal offer rejected by customer\n",
      "Printed (ERP)\n",
      "Processing return delivery\n",
      "Ready for payment processing\n",
      "Ready to deliver\n",
      "Refund\n",
      "Rejected (SYS-2)\n",
      "Return delivered (Device only)\n",
      "Return delivered (contract cancellation)\n",
      "Return delivered (contract not cancelled)\n",
      "Return delivery approved\n",
      "Return delivery initiated\n",
      "Suspicious (Fraud)\n"
     ]
    }
   ],
   "source": [
    "dataset2 = pd.read_csv('./Data-out/hda_dataset_uniform_random_1.csv', sep = \",\")\n",
    "print(dataset2.head())\n",
    "dataset2.shape\n",
    "\n",
    "data_array = dataset2.event.unique()\n",
    "data_array.sort()\n",
    "for i in data_array:\n",
    "    print(i)"
   ]
  },
  {
   "cell_type": "code",
   "execution_count": null,
   "metadata": {},
   "outputs": [],
   "source": []
  }
 ],
 "metadata": {
  "kernelspec": {
   "display_name": "Python 3",
   "language": "python",
   "name": "python3"
  },
  "language_info": {
   "codemirror_mode": {
    "name": "ipython",
    "version": 3
   },
   "file_extension": ".py",
   "mimetype": "text/x-python",
   "name": "python",
   "nbconvert_exporter": "python",
   "pygments_lexer": "ipython3",
   "version": "3.7.4"
  }
 },
 "nbformat": 4,
 "nbformat_minor": 2
}
