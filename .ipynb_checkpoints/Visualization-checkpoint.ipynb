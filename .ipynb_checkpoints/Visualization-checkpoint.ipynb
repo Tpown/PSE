{
 "cells": [
  {
   "cell_type": "markdown",
   "metadata": {},
   "source": [
    "# Visualization of the Data"
   ]
  },
  {
   "cell_type": "code",
   "execution_count": 1,
   "metadata": {},
   "outputs": [],
   "source": [
    "#import pipeline as pipe\n",
    "import pandas as pd\n",
    "import numpy as np\n",
    "import glob\n",
    "\n",
    "\n",
    "#def load_data():\n",
    "#    data = pipe.pipeline()\n",
    "\n",
    "\n",
    "def load_preprocess_data():\n",
    "    path = r'./Data-out' \n",
    "    all_files = glob.glob(path + \"/hda_dataset_uniform_random_[0-7].csv\")\n",
    "    all_files.sort()\n",
    "    \n",
    "    #Load all data\n",
    "    df = (pd.read_csv(f) for f in all_files)\n",
    "    \n",
    "    #Merge all the files with each other\n",
    "    #Drop all duplicates\n",
    "    concat_df = pd.concat(df).drop_duplicates().reset_index(drop=True)\n",
    "    concat_df = concat_df.sort_values(by=['case', 'ts'])\n",
    "    #reset index\n",
    "    concat_df = concat_df.reset_index(drop=True)\n",
    "    #Create a csv file\n",
    "    #concat_df.to_csv('test1.csv')\n",
    "    return concat_df"
   ]
  },
  {
   "cell_type": "code",
   "execution_count": 2,
   "metadata": {},
   "outputs": [
    {
     "data": {
      "text/html": [
       "<div>\n",
       "<style scoped>\n",
       "    .dataframe tbody tr th:only-of-type {\n",
       "        vertical-align: middle;\n",
       "    }\n",
       "\n",
       "    .dataframe tbody tr th {\n",
       "        vertical-align: top;\n",
       "    }\n",
       "\n",
       "    .dataframe thead th {\n",
       "        text-align: right;\n",
       "    }\n",
       "</style>\n",
       "<table border=\"1\" class=\"dataframe\">\n",
       "  <thead>\n",
       "    <tr style=\"text-align: right;\">\n",
       "      <th></th>\n",
       "      <th>case</th>\n",
       "      <th>event</th>\n",
       "      <th>ts</th>\n",
       "    </tr>\n",
       "  </thead>\n",
       "  <tbody>\n",
       "    <tr>\n",
       "      <td>0</td>\n",
       "      <td>1</td>\n",
       "      <td>Order imported</td>\n",
       "      <td>2018-09-02 00:02:30</td>\n",
       "    </tr>\n",
       "    <tr>\n",
       "      <td>1</td>\n",
       "      <td>1</td>\n",
       "      <td>Order checked</td>\n",
       "      <td>2018-09-02 00:02:41</td>\n",
       "    </tr>\n",
       "    <tr>\n",
       "      <td>2</td>\n",
       "      <td>1</td>\n",
       "      <td>Address correction</td>\n",
       "      <td>2018-09-02 00:06:21</td>\n",
       "    </tr>\n",
       "    <tr>\n",
       "      <td>3</td>\n",
       "      <td>1</td>\n",
       "      <td>Order creation failed (SYS-2)</td>\n",
       "      <td>2018-09-02 00:07:00</td>\n",
       "    </tr>\n",
       "    <tr>\n",
       "      <td>4</td>\n",
       "      <td>1</td>\n",
       "      <td>Device hand-out</td>\n",
       "      <td>2018-09-03 16:36:00</td>\n",
       "    </tr>\n",
       "  </tbody>\n",
       "</table>\n",
       "</div>"
      ],
      "text/plain": [
       "   case                          event                   ts\n",
       "0     1                 Order imported  2018-09-02 00:02:30\n",
       "1     1                  Order checked  2018-09-02 00:02:41\n",
       "2     1             Address correction  2018-09-02 00:06:21\n",
       "3     1  Order creation failed (SYS-2)  2018-09-02 00:07:00\n",
       "4     1                Device hand-out  2018-09-03 16:36:00"
      ]
     },
     "execution_count": 2,
     "metadata": {},
     "output_type": "execute_result"
    }
   ],
   "source": [
    "df = load_preprocess_data()\n",
    "df.head()"
   ]
  },
  {
   "cell_type": "code",
   "execution_count": 4,
   "metadata": {},
   "outputs": [
    {
     "data": {
      "text/plain": [
       "'test.html'"
      ]
     },
     "execution_count": 4,
     "metadata": {},
     "output_type": "execute_result"
    }
   ],
   "source": [
    "import plotly as py\n",
    "import plotly.graph_objects as go\n",
    "import seaborn as sns\n",
    "\n",
    "data = pd.read_csv(\"./Data-out/hda_dataset_uniform_random_0.csv\")\n",
    "data = data[:100]\n",
    "\n",
    "#Create figure\n",
    "fig = go.Figure()\n",
    "fig.add_trace(go.Scatter(x=data.ts, y=data.case, mode='markers', text=data.event))\n",
    "\n",
    "#Set title\n",
    "fig.update_layout(title_text = \"All the events during a period\")\n",
    "\n",
    "# Add range slider\n",
    "fig.update_layout(\n",
    "    xaxis=go.layout.XAxis(\n",
    "        rangeselector=dict(\n",
    "            buttons=list([\n",
    "                dict(count=1,\n",
    "                     label=\"1m\",\n",
    "                     step=\"month\",\n",
    "                     stepmode=\"backward\"),\n",
    "                dict(count=6,\n",
    "                     label=\"6m\",\n",
    "                     step=\"month\",\n",
    "                     stepmode=\"backward\"),\n",
    "                dict(count=1,\n",
    "                     label=\"YTD\",\n",
    "                     step=\"year\",\n",
    "                     stepmode=\"todate\"),\n",
    "                dict(count=1,\n",
    "                     label=\"1y\",\n",
    "                     step=\"year\",\n",
    "                     stepmode=\"backward\"),\n",
    "                dict(step=\"all\")\n",
    "            ])\n",
    "        ),\n",
    "        rangeslider=dict(\n",
    "            visible=True\n",
    "        ),\n",
    "        type=\"date\"\n",
    "    )\n",
    ")\n",
    "\n",
    "py.offline.plot(fig, filename=\"test.html\")"
   ]
  },
  {
   "cell_type": "markdown",
   "metadata": {},
   "source": [
    "# Visualisierung mit Plotly Express"
   ]
  },
  {
   "cell_type": "code",
   "execution_count": 55,
   "metadata": {},
   "outputs": [
    {
     "data": {
      "text/plain": [
       "'poltly_express.html'"
      ]
     },
     "execution_count": 55,
     "metadata": {},
     "output_type": "execute_result"
    }
   ],
   "source": [
    "import plotly.express as px\n",
    "\n",
    "fig = px.scatter(df, x=\"ts\", y=\"case\", color=\"event\")\n",
    "fig.update_layout(\n",
    "    title=\"All events on a period\",\n",
    "    xaxis_title=\"Timestamp\",\n",
    "    yaxis_title=\"Case Number\",\n",
    "    font=dict(\n",
    "        family=\"Courier New, monospace\",\n",
    "        size=18,\n",
    "        color=\"#7f7f7f\"\n",
    "    )\n",
    ")\n",
    "\n",
    "py.offline.plot(fig, filename=\"poltly_express.html\")\n"
   ]
  },
  {
   "cell_type": "markdown",
   "metadata": {},
   "source": [
    "### NUR TESTS"
   ]
  },
  {
   "cell_type": "code",
   "execution_count": 31,
   "metadata": {},
   "outputs": [
    {
     "data": {
      "application/vnd.jupyter.widget-view+json": {
       "model_id": "abdafb2fccd5430081d5ef478ba3855a",
       "version_major": 2,
       "version_minor": 0
      },
      "text/plain": [
       "VBox(children=(Button(button_style='info', description='Set All', style=ButtonStyle()), FigureWidget({\n",
       "    'da…"
      ]
     },
     "metadata": {},
     "output_type": "display_data"
    }
   ],
   "source": [
    "import plotly.graph_objs as go\n",
    "from ipywidgets import Button, HBox, VBox\n",
    "import plotly_express as px\n",
    "import ipywidgets as widgets\n",
    "import pandas as pd\n",
    "import plotly.offline as py\n",
    "\n",
    "data = pd.read_csv(\"./Data-out/hda_dataset_uniform_random_0.csv\")\n",
    "data = data[:100]\n",
    "data_array = data.event.unique()\n",
    "data1 = data.loc[data.event.isin([\"Invoiced\"])]\n",
    "\n",
    "trace = px.scatter(data, x=\"ts\", y=\"case\", color=\"event\")\n",
    "fig = go.FigureWidget(trace)\n",
    "#print(fig)\n",
    "\n",
    "\n",
    "\n",
    "\n",
    "def update_axes(b):\n",
    "    trace1 = px.scatter(data1, x=\"ts\", y=\"case\", color=\"event\")\n",
    "    fig.data = []\n",
    "    fig.update(data = [d.to_plotly_json() for d in trace1.data])\n",
    "    \n",
    "    \n",
    "\n",
    "\n",
    "    \n",
    "btn_setfilter = widgets.Button(description='Set All', button_style='info' )\n",
    "btn_setfilter.on_click(update_axes)\n",
    "    \n",
    "\n",
    "VBox([btn_setfilter, fig])"
   ]
  },
  {
   "cell_type": "code",
   "execution_count": 30,
   "metadata": {},
   "outputs": [
    {
     "name": "stdout",
     "output_type": "stream",
     "text": [
      "[2]\n",
      "[]\n"
     ]
    }
   ],
   "source": [
    "a = []\n",
    "def foo():\n",
    "    a.append(2)\n",
    "    print(a)\n",
    "\n",
    "def test():\n",
    "    global a\n",
    "    a = []\n",
    "\n",
    "    \n",
    "    \n",
    "    \n",
    "foo()\n",
    "test()\n",
    "print(a)\n"
   ]
  },
  {
   "cell_type": "code",
   "execution_count": 54,
   "metadata": {
    "scrolled": false
   },
   "outputs": [
    {
     "data": {
      "application/vnd.jupyter.widget-view+json": {
       "model_id": "1e12231088ec450abcf5a23713e3da9a",
       "version_major": 2,
       "version_minor": 0
      },
      "text/plain": [
       "VBox(children=(interactive(children=(Combobox(value='', description='Filter', ensure_option=True, layout=Layou…"
      ]
     },
     "metadata": {},
     "output_type": "display_data"
    }
   ],
   "source": [
    "import plotly_express as px\n",
    "import plotly.graph_objs as go\n",
    "import ipywidgets as widgets\n",
    "import pandas as pd\n",
    "from ipywidgets import interactive, HBox, VBox, Layout\n",
    "import plotly.offline as py\n",
    "import time\n",
    "\n",
    "data = pd.read_csv(\"./Data-out/hda_dataset_uniform_random_0.csv\")\n",
    "data = data[:100]\n",
    "data_array = data.event.unique()\n",
    "#print(data)\n",
    "\n",
    "trace = px.scatter(data, x=\"ts\", y=\"case\", color=\"event\")\n",
    "fig = go.FigureWidget(trace)\n",
    "\n",
    "#Funktion für DropDown Feature\n",
    "def update_event_dd(select_event):\n",
    "    print(select_event)\n",
    "                \n",
    "    selected_data = data.loc[data.event == select_event]\n",
    "    fig = px.scatter(selected_data, x=\"ts\", y=\"case\", color=\"event\")\n",
    "    display(fig)\n",
    "    \n",
    "    #py.offline.plot(fig, filename=\"poltly_express.html\")\n",
    "\n",
    "\n",
    "# Funktion für Select Multiple Feature\n",
    "def update_event_sm(select_event):\n",
    "    #print(select_event)\n",
    "    event_list = []\n",
    "    if select_event:\n",
    "        for i in select_event:\n",
    "            event_list.append(i)\n",
    "            \n",
    "    selected_data = data.loc[data.event.isin(event_list)]\n",
    "    #print(event_list)\n",
    "    #selected_data = data.filter(event_list)\n",
    "    #print(selected_data)\n",
    "    trace1 = px.scatter(selected_data, x=\"ts\", y=\"case\", color=\"event\")\n",
    "    fig.data = []\n",
    "    fig.update(data = [d.to_plotly_json() for d in trace1.data])\n",
    "    \n",
    "#Funktion für ComboBox\n",
    "combobox_arr = []\n",
    "def update_event_cb(select_event):\n",
    "    if select_event:\n",
    "        combobox_arr.append(select_event)\n",
    "        text_area.value = ', '.join(combobox_arr)\n",
    "    time.sleep(0.5)\n",
    "    combobox.value =''\n",
    "          \n",
    "#Funktion für Filter zurücksetzen  \n",
    "def clear_filter(b):\n",
    "    empty_list =[]\n",
    "    #select_multiple.value = tuple(empty_list)\n",
    "    global combobox_arr\n",
    "    combobox_arr = empty_list\n",
    "    selected_data = data.loc[data.event.isin(combobox_arr)]\n",
    "    trace1 = px.scatter(selected_data, x=\"ts\", y=\"case\", color=\"event\")\n",
    "    fig.data = []\n",
    "    fig.update(data = [d.to_plotly_json() for d in trace1.data])\n",
    "    text_area.value = ''\n",
    "\n",
    "#Funktion für alle Events im Filter setzen    \n",
    "def set_filter(b):\n",
    "    #select_multiple.value = tuple(data_array)\n",
    "    trace1 = px.scatter(data, x=\"ts\", y=\"case\", color=\"event\")\n",
    "    fig.data = []\n",
    "    fig.update(data = [d.to_plotly_json() for d in trace1.data])\n",
    "    \n",
    "#Funktion für submit button    \n",
    "def submit_filter(b):\n",
    "    selected_data = data.loc[data.event.isin(combobox_arr)]\n",
    "    trace1 = px.scatter(selected_data, x=\"ts\", y=\"case\", color=\"event\")\n",
    "    fig.data = []\n",
    "    fig.update(data = [d.to_plotly_json() for d in trace1.data])\n",
    "    \n",
    "\n",
    "event_tuple = tuple(data_array)  \n",
    "#Definition der Widgets\n",
    "select_multiple = widgets.SelectMultiple(options=data_array, value=event_tuple ,description='Event')\n",
    "combobox = widgets.Combobox(placeholder=\"Filter event\", options=event_tuple, description=\"Filter\", \n",
    "                            ensure_option=True, disabled=False,\n",
    "                           layout=Layout(width='800px'))\n",
    "event_dropdown = widgets.Dropdown(options=data_array, description= 'Event')\n",
    "\n",
    "#Definition von Buttons\n",
    "btn_clearfilter = widgets.Button(description='Clear Filter', button_style='danger')\n",
    "btn_setfilter = widgets.Button(description='Set All', button_style='info' )\n",
    "btn_submit = widgets.Button(description='Submit')\n",
    "text_area = widgets.Textarea(placeholder='Selected Filter', disabled = True, \n",
    "                             layout=Layout(width='800px', height='30px'))\n",
    "\n",
    "#Interaktion der Widgets\n",
    "sm = interactive(update_event_sm, select_event=select_multiple)\n",
    "cb = interactive(update_event_cb, select_event=combobox)\n",
    "btn_clearfilter.on_click(clear_filter)\n",
    "btn_setfilter.on_click(set_filter)\n",
    "btn_submit.on_click(submit_filter)\n",
    "\n",
    "\n",
    "VBox([cb, text_area,HBox([btn_submit, btn_setfilter, btn_clearfilter]), fig])"
   ]
  },
  {
   "cell_type": "code",
   "execution_count": 29,
   "metadata": {},
   "outputs": [
    {
     "data": {
      "application/vnd.jupyter.widget-view+json": {
       "model_id": "8fdc642a2a624ac68766988c4f464a7e",
       "version_major": 2,
       "version_minor": 0
      },
      "text/plain": [
       "Textarea(value='Test, Kartoffel, Banane, Komisch, Witzig', disabled=True)"
      ]
     },
     "metadata": {},
     "output_type": "display_data"
    }
   ],
   "source": [
    "a = [\"Test\", \"Kartoffel\", \"Banane\", \"Komisch\", \"Witzig\"]\n",
    "text_area = widgets.Textarea(disabled=True)\n",
    "\n",
    "fullstr = ', '.join(a)\n",
    "text_area.value = fullstr\n",
    "text_area"
   ]
  }
 ],
 "metadata": {
  "kernelspec": {
   "display_name": "Python 3",
   "language": "python",
   "name": "python3"
  },
  "language_info": {
   "codemirror_mode": {
    "name": "ipython",
    "version": 3
   },
   "file_extension": ".py",
   "mimetype": "text/x-python",
   "name": "python",
   "nbconvert_exporter": "python",
   "pygments_lexer": "ipython3",
   "version": "3.7.4"
  }
 },
 "nbformat": 4,
 "nbformat_minor": 2
}
