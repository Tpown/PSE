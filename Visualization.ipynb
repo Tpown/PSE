{
 "cells": [
  {
   "cell_type": "markdown",
   "metadata": {},
   "source": [
    "# Visualization of the Data"
   ]
  },
  {
   "cell_type": "code",
   "execution_count": 2,
   "metadata": {},
   "outputs": [],
   "source": [
    "#import pipeline as pipe\n",
    "import pandas as pd\n",
    "import numpy as np\n",
    "import glob\n",
    "\n",
    "\n",
    "#def load_data():\n",
    "#    data = pipe.pipeline()\n",
    "\n",
    "\n",
    "def load_preprocess_data():\n",
    "    path = r'./Data-out' \n",
    "    all_files = glob.glob(path + \"/hda_dataset_uniform_random_[0-7].csv\")\n",
    "    all_files.sort()\n",
    "    \n",
    "    #Load all data\n",
    "    df = (pd.read_csv(f) for f in all_files)\n",
    "    \n",
    "    #Merge all the files with each other\n",
    "    #Drop all duplicates\n",
    "    concat_df = pd.concat(df).drop_duplicates().reset_index(drop=True)\n",
    "    concat_df = concat_df.sort_values(by=['case', 'ts'])\n",
    "    #reset index\n",
    "    concat_df = concat_df.reset_index(drop=True)\n",
    "    #Create a csv file\n",
    "    #concat_df.to_csv('test1.csv')\n",
    "    return concat_df"
   ]
  },
  {
   "cell_type": "code",
   "execution_count": 29,
   "metadata": {},
   "outputs": [
    {
     "data": {
      "text/html": [
       "<div>\n",
       "<style scoped>\n",
       "    .dataframe tbody tr th:only-of-type {\n",
       "        vertical-align: middle;\n",
       "    }\n",
       "\n",
       "    .dataframe tbody tr th {\n",
       "        vertical-align: top;\n",
       "    }\n",
       "\n",
       "    .dataframe thead th {\n",
       "        text-align: right;\n",
       "    }\n",
       "</style>\n",
       "<table border=\"1\" class=\"dataframe\">\n",
       "  <thead>\n",
       "    <tr style=\"text-align: right;\">\n",
       "      <th></th>\n",
       "      <th>case</th>\n",
       "      <th>event</th>\n",
       "      <th>ts</th>\n",
       "    </tr>\n",
       "  </thead>\n",
       "  <tbody>\n",
       "    <tr>\n",
       "      <td>0</td>\n",
       "      <td>1</td>\n",
       "      <td>Order imported</td>\n",
       "      <td>2018-09-02 00:02:30</td>\n",
       "    </tr>\n",
       "    <tr>\n",
       "      <td>1</td>\n",
       "      <td>1</td>\n",
       "      <td>Order checked</td>\n",
       "      <td>2018-09-02 00:02:41</td>\n",
       "    </tr>\n",
       "    <tr>\n",
       "      <td>2</td>\n",
       "      <td>1</td>\n",
       "      <td>Address correction</td>\n",
       "      <td>2018-09-02 00:06:21</td>\n",
       "    </tr>\n",
       "    <tr>\n",
       "      <td>3</td>\n",
       "      <td>1</td>\n",
       "      <td>Order creation failed (SYS-2)</td>\n",
       "      <td>2018-09-02 00:07:00</td>\n",
       "    </tr>\n",
       "    <tr>\n",
       "      <td>4</td>\n",
       "      <td>1</td>\n",
       "      <td>Device hand-out</td>\n",
       "      <td>2018-09-03 16:36:00</td>\n",
       "    </tr>\n",
       "  </tbody>\n",
       "</table>\n",
       "</div>"
      ],
      "text/plain": [
       "   case                          event                   ts\n",
       "0     1                 Order imported  2018-09-02 00:02:30\n",
       "1     1                  Order checked  2018-09-02 00:02:41\n",
       "2     1             Address correction  2018-09-02 00:06:21\n",
       "3     1  Order creation failed (SYS-2)  2018-09-02 00:07:00\n",
       "4     1                Device hand-out  2018-09-03 16:36:00"
      ]
     },
     "execution_count": 29,
     "metadata": {},
     "output_type": "execute_result"
    }
   ],
   "source": [
    "df = load_preprocess_data()\n",
    "df.head()"
   ]
  },
  {
   "cell_type": "code",
   "execution_count": 35,
   "metadata": {},
   "outputs": [
    {
     "data": {
      "text/plain": [
       "'test.html'"
      ]
     },
     "execution_count": 35,
     "metadata": {},
     "output_type": "execute_result"
    }
   ],
   "source": [
    "import plotly as py\n",
    "import plotly.graph_objects as go\n",
    "import seaborn as sns\n",
    "\n",
    "data = pd.read_csv(\"./Data-out/hda_dataset_uniform_random_0.csv\")\n",
    "data = data[:100]\n",
    "\n",
    "#Create figure\n",
    "fig = go.Figure()\n",
    "fig.add_trace(go.Scatter(x=data.ts, y=data.case, mode='markers', text=data.event))\n",
    "\n",
    "#Set title\n",
    "fig.update_layout(title_text = \"All the events during a period\")\n",
    "\n",
    "# Add range slider\n",
    "fig.update_layout(\n",
    "    xaxis=go.layout.XAxis(\n",
    "        rangeselector=dict(\n",
    "            buttons=list([\n",
    "                dict(count=1,\n",
    "                     label=\"1m\",\n",
    "                     step=\"month\",\n",
    "                     stepmode=\"backward\"),\n",
    "                dict(count=6,\n",
    "                     label=\"6m\",\n",
    "                     step=\"month\",\n",
    "                     stepmode=\"backward\"),\n",
    "                dict(count=1,\n",
    "                     label=\"YTD\",\n",
    "                     step=\"year\",\n",
    "                     stepmode=\"todate\"),\n",
    "                dict(count=1,\n",
    "                     label=\"1y\",\n",
    "                     step=\"year\",\n",
    "                     stepmode=\"backward\"),\n",
    "                dict(step=\"all\")\n",
    "            ])\n",
    "        ),\n",
    "        rangeslider=dict(\n",
    "            visible=True\n",
    "        ),\n",
    "        type=\"date\"\n",
    "    )\n",
    ")\n",
    "\n",
    "py.offline.plot(fig, filename=\"test.html\")"
   ]
  },
  {
   "cell_type": "code",
   "execution_count": 37,
   "metadata": {},
   "outputs": [
    {
     "data": {
      "text/plain": [
       "'poltly_express.html'"
      ]
     },
     "execution_count": 37,
     "metadata": {},
     "output_type": "execute_result"
    }
   ],
   "source": [
    "import plotly.express as px\n",
    "data = pd.read_csv(\"./Data-out/hda_dataset_uniform_random_0.csv\")\n",
    "data = data[:100]\n",
    "fig = px.scatter(df, x=\"ts\", y=\"case\", color=\"event\")\n",
    "fig.update_layout(\n",
    "    title=\"All events on a period\",\n",
    "    xaxis_title=\"Timestamp\",\n",
    "    yaxis_title=\"Case Number\",\n",
    "    font=dict(\n",
    "        family=\"Courier New, monospace\",\n",
    "        size=18,\n",
    "        color=\"#7f7f7f\"\n",
    "    )\n",
    ")\n",
    "py.offline.plot(fig, filename=\"poltly_express.html\")\n"
   ]
  }
 ],
 "metadata": {
  "kernelspec": {
   "display_name": "Python 3",
   "language": "python",
   "name": "python3"
  },
  "language_info": {
   "codemirror_mode": {
    "name": "ipython",
    "version": 3
   },
   "file_extension": ".py",
   "mimetype": "text/x-python",
   "name": "python",
   "nbconvert_exporter": "python",
   "pygments_lexer": "ipython3",
   "version": "3.7.4"
  }
 },
 "nbformat": 4,
 "nbformat_minor": 2
}
