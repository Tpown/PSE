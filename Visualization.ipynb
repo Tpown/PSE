{
 "cells": [
  {
   "cell_type": "markdown",
   "metadata": {},
   "source": [
    "# Visualization of the Data"
   ]
  },
  {
   "cell_type": "code",
   "execution_count": 1,
   "metadata": {},
   "outputs": [],
   "source": [
    "import pandas as pd\n",
    "import numpy as np\n",
    "import glob\n",
    "\n",
    "def load_preprocess_data():\n",
    "    path = r'./Data-out' \n",
    "    all_files = glob.glob(path + \"/hda_dataset_uniform_random_[0-7].csv\")\n",
    "    all_files.sort()\n",
    "    \n",
    "    #Load all data\n",
    "    df = (pd.read_csv(f) for f in all_files)\n",
    "    \n",
    "    #Merge all the files with each other\n",
    "    #Drop all duplicates\n",
    "    concat_df = pd.concat(df).drop_duplicates().reset_index(drop=True)\n",
    "    concat_df = concat_df.sort_values(by=['case', 'ts'])\n",
    "    #reset index\n",
    "    concat_df = concat_df.reset_index(drop=True)\n",
    "    #Create a csv file\n",
    "    #concat_df.to_csv('test1.csv')\n",
    "    return concat_df"
   ]
  },
  {
   "cell_type": "code",
   "execution_count": 2,
   "metadata": {},
   "outputs": [
    {
     "data": {
      "text/html": [
       "<div>\n",
       "<style scoped>\n",
       "    .dataframe tbody tr th:only-of-type {\n",
       "        vertical-align: middle;\n",
       "    }\n",
       "\n",
       "    .dataframe tbody tr th {\n",
       "        vertical-align: top;\n",
       "    }\n",
       "\n",
       "    .dataframe thead th {\n",
       "        text-align: right;\n",
       "    }\n",
       "</style>\n",
       "<table border=\"1\" class=\"dataframe\">\n",
       "  <thead>\n",
       "    <tr style=\"text-align: right;\">\n",
       "      <th></th>\n",
       "      <th>case</th>\n",
       "      <th>event</th>\n",
       "      <th>ts</th>\n",
       "    </tr>\n",
       "  </thead>\n",
       "  <tbody>\n",
       "    <tr>\n",
       "      <td>0</td>\n",
       "      <td>1</td>\n",
       "      <td>Order imported</td>\n",
       "      <td>2018-09-02 00:02:30</td>\n",
       "    </tr>\n",
       "    <tr>\n",
       "      <td>1</td>\n",
       "      <td>1</td>\n",
       "      <td>Order checked</td>\n",
       "      <td>2018-09-02 00:02:41</td>\n",
       "    </tr>\n",
       "    <tr>\n",
       "      <td>2</td>\n",
       "      <td>1</td>\n",
       "      <td>Address correction</td>\n",
       "      <td>2018-09-02 00:06:21</td>\n",
       "    </tr>\n",
       "    <tr>\n",
       "      <td>3</td>\n",
       "      <td>1</td>\n",
       "      <td>Order creation failed (SYS-2)</td>\n",
       "      <td>2018-09-02 00:07:00</td>\n",
       "    </tr>\n",
       "    <tr>\n",
       "      <td>4</td>\n",
       "      <td>1</td>\n",
       "      <td>Device hand-out</td>\n",
       "      <td>2018-09-03 16:36:00</td>\n",
       "    </tr>\n",
       "    <tr>\n",
       "      <td>...</td>\n",
       "      <td>...</td>\n",
       "      <td>...</td>\n",
       "      <td>...</td>\n",
       "    </tr>\n",
       "    <tr>\n",
       "      <td>1405607</td>\n",
       "      <td>263247</td>\n",
       "      <td>Delivered</td>\n",
       "      <td>2018-12-04 09:27:41</td>\n",
       "    </tr>\n",
       "    <tr>\n",
       "      <td>1405608</td>\n",
       "      <td>263247</td>\n",
       "      <td>Activated</td>\n",
       "      <td>2018-12-04 09:51:03</td>\n",
       "    </tr>\n",
       "    <tr>\n",
       "      <td>1405609</td>\n",
       "      <td>263247</td>\n",
       "      <td>Printed (ERP)</td>\n",
       "      <td>2018-12-04 09:51:21</td>\n",
       "    </tr>\n",
       "    <tr>\n",
       "      <td>1405610</td>\n",
       "      <td>263247</td>\n",
       "      <td>Customer ID transmitted</td>\n",
       "      <td>2018-12-05 09:52:10</td>\n",
       "    </tr>\n",
       "    <tr>\n",
       "      <td>1405611</td>\n",
       "      <td>263247</td>\n",
       "      <td>Invoiced</td>\n",
       "      <td>2018-12-05 23:31:18</td>\n",
       "    </tr>\n",
       "  </tbody>\n",
       "</table>\n",
       "<p>1405612 rows × 3 columns</p>\n",
       "</div>"
      ],
      "text/plain": [
       "           case                          event                   ts\n",
       "0             1                 Order imported  2018-09-02 00:02:30\n",
       "1             1                  Order checked  2018-09-02 00:02:41\n",
       "2             1             Address correction  2018-09-02 00:06:21\n",
       "3             1  Order creation failed (SYS-2)  2018-09-02 00:07:00\n",
       "4             1                Device hand-out  2018-09-03 16:36:00\n",
       "...         ...                            ...                  ...\n",
       "1405607  263247                      Delivered  2018-12-04 09:27:41\n",
       "1405608  263247                      Activated  2018-12-04 09:51:03\n",
       "1405609  263247                  Printed (ERP)  2018-12-04 09:51:21\n",
       "1405610  263247        Customer ID transmitted  2018-12-05 09:52:10\n",
       "1405611  263247                       Invoiced  2018-12-05 23:31:18\n",
       "\n",
       "[1405612 rows x 3 columns]"
      ]
     },
     "execution_count": 2,
     "metadata": {},
     "output_type": "execute_result"
    }
   ],
   "source": [
    "df = load_preprocess_data()\n",
    "df"
   ]
  },
  {
   "cell_type": "markdown",
   "metadata": {},
   "source": [
    "# Visualisierung mit Plotly Express"
   ]
  },
  {
   "cell_type": "code",
   "execution_count": 3,
   "metadata": {},
   "outputs": [
    {
     "ename": "NameError",
     "evalue": "name 'py' is not defined",
     "output_type": "error",
     "traceback": [
      "\u001b[0;31m---------------------------------------------------------------------------\u001b[0m",
      "\u001b[0;31mNameError\u001b[0m                                 Traceback (most recent call last)",
      "\u001b[0;32m<ipython-input-3-acb8d7586bfa>\u001b[0m in \u001b[0;36m<module>\u001b[0;34m\u001b[0m\n\u001b[1;32m     13\u001b[0m )\n\u001b[1;32m     14\u001b[0m \u001b[0;34m\u001b[0m\u001b[0m\n\u001b[0;32m---> 15\u001b[0;31m \u001b[0mpy\u001b[0m\u001b[0;34m.\u001b[0m\u001b[0moffline\u001b[0m\u001b[0;34m.\u001b[0m\u001b[0mplot\u001b[0m\u001b[0;34m(\u001b[0m\u001b[0mfig\u001b[0m\u001b[0;34m,\u001b[0m \u001b[0mfilename\u001b[0m\u001b[0;34m=\u001b[0m\u001b[0;34m\"poltly_express.html\"\u001b[0m\u001b[0;34m)\u001b[0m\u001b[0;34m\u001b[0m\u001b[0;34m\u001b[0m\u001b[0m\n\u001b[0m",
      "\u001b[0;31mNameError\u001b[0m: name 'py' is not defined"
     ]
    }
   ],
   "source": [
    "import plotly.express as px\n",
    "\n",
    "fig = px.scatter(df, x=\"ts\", y=\"case\", color=\"event\")\n",
    "fig.update_layout(\n",
    "    title=\"All events on a period\",\n",
    "    xaxis_title=\"Timestamp\",\n",
    "    yaxis_title=\"Case Number\",\n",
    "    font=dict(\n",
    "        family=\"Courier New, monospace\",\n",
    "        size=18,\n",
    "        color=\"#7f7f7f\"\n",
    "    )\n",
    ")\n",
    "\n",
    "py.offline.plot(fig, filename=\"poltly_express.html\")\n"
   ]
  },
  {
   "cell_type": "code",
   "execution_count": null,
   "metadata": {
    "scrolled": false
   },
   "outputs": [],
   "source": [
    "import plotly_express as px\n",
    "import plotly.graph_objs as go\n",
    "import ipywidgets as widgets\n",
    "import pandas as pd\n",
    "from ipywidgets import interactive, HBox, VBox, Layout\n",
    "import plotly.offline as py\n",
    "import time\n",
    "from ipywidgets.embed import embed_minimal_html, embed_data\n",
    "\n",
    "\n",
    "\n",
    "data = pd.read_csv(\"./Data-out/hda_dataset_uniform_random_0.csv\")\n",
    "data = data[:100]\n",
    "\n",
    "\n",
    "#data = df\n",
    "data_array = data.event.unique()\n",
    "#print(data)\n",
    "\n",
    "trace = px.scatter(data, x=\"ts\", y=\"case\", color=\"event\")\n",
    "fig = go.FigureWidget(trace)\n",
    "\n",
    "#Funktion für DropDown Feature\n",
    "def update_event_dd(select_event):\n",
    "    print(select_event)\n",
    "                \n",
    "    selected_data = data.loc[data.event == select_event]\n",
    "    fig = px.scatter(selected_data, x=\"ts\", y=\"case\", color=\"event\")\n",
    "    display(fig)\n",
    "    \n",
    "    #py.offline.plot(fig, filename=\"poltly_express.html\")\n",
    "\n",
    "\n",
    "# Funktion für Select Multiple Feature\n",
    "def update_event_sm(select_event):\n",
    "    #print(select_event)\n",
    "    event_list = []\n",
    "    if select_event:\n",
    "        for i in select_event:\n",
    "            event_list.append(i)\n",
    "            \n",
    "    selected_data = data.loc[data.event.isin(event_list)]\n",
    "    #print(event_list)\n",
    "    #selected_data = data.filter(event_list)\n",
    "    #print(selected_data)\n",
    "    trace1 = px.scatter(selected_data, x=\"ts\", y=\"case\", color=\"event\")\n",
    "    fig.data = []\n",
    "    fig.update(data = [d.to_plotly_json() for d in trace1.data])\n",
    "    \n",
    "#Funktion für ComboBox\n",
    "combobox_arr = []\n",
    "def update_event_cb(select_event):\n",
    "    if select_event:\n",
    "        if select_event not in combobox_arr:\n",
    "            combobox_arr.append(select_event)\n",
    "            text_area.value = ', '.join(combobox_arr)\n",
    "    time.sleep(0.5)\n",
    "    combobox.value =''\n",
    "          \n",
    "#Funktion für Filter zurücksetzen  \n",
    "def clear_filter(b):\n",
    "    empty_list =[]\n",
    "    #select_multiple.value = tuple(empty_list)\n",
    "    global combobox_arr\n",
    "    combobox_arr = empty_list\n",
    "    selected_data = data.loc[data.event.isin(combobox_arr)]\n",
    "    trace1 = px.scatter(selected_data, x=\"ts\", y=\"case\", color=\"event\")\n",
    "    fig.data = []\n",
    "    fig.update(data = [d.to_plotly_json() for d in trace1.data])\n",
    "    text_area.value = ''\n",
    "\n",
    "#Funktion für alle Events im Filter setzen    \n",
    "def set_filter(b):\n",
    "    #select_multiple.value = tuple(data_array)\n",
    "    trace1 = px.scatter(data, x=\"ts\", y=\"case\", color=\"event\")\n",
    "    fig.data = []\n",
    "    fig.update(data = [d.to_plotly_json() for d in trace1.data])\n",
    "    text_area.value = ', '.join(data_array)\n",
    "    \n",
    "#Funktion für submit button    \n",
    "def submit_filter(b):\n",
    "    selected_data = data.loc[data.event.isin(combobox_arr)]\n",
    "    trace1 = px.scatter(selected_data, x=\"ts\", y=\"case\", color=\"event\")\n",
    "    fig.data = []\n",
    "    fig.update(data = [d.to_plotly_json() for d in trace1.data])\n",
    "    \n",
    "\n",
    "event_tuple = tuple(data_array)  \n",
    "#Definition der Widgets\n",
    "select_multiple = widgets.SelectMultiple(options=data_array, value=event_tuple ,description='Event')\n",
    "combobox = widgets.Combobox(placeholder=\"Filter event\", options=event_tuple, description=\"Filter\", \n",
    "                            ensure_option=True, disabled=False,\n",
    "                           layout=Layout(width='800px'))\n",
    "event_dropdown = widgets.Dropdown(options=data_array, description= 'Event')\n",
    "\n",
    "#Definition von Buttons\n",
    "btn_clearfilter = widgets.Button(description='Clear Filter', button_style='danger')\n",
    "btn_setfilter = widgets.Button(description='Set All', button_style='info' )\n",
    "btn_submit = widgets.Button(description='Submit')\n",
    "text_area = widgets.Textarea(placeholder='Selected Filter', disabled = True, \n",
    "                             layout=Layout(width='800px', height='35px'))\n",
    "\n",
    "#Interaktion der Widgets\n",
    "sm = interactive(update_event_sm, select_event=select_multiple)\n",
    "cb = interactive(update_event_cb, select_event=combobox)\n",
    "btn_clearfilter.on_click(clear_filter)\n",
    "btn_setfilter.on_click(set_filter)\n",
    "btn_submit.on_click(submit_filter)\n",
    "\n",
    "\n",
    "VBox([cb, text_area,HBox([btn_submit, btn_setfilter, btn_clearfilter]), fig])\n",
    "#embed_minimal_html('Visualization.html', views=[visualization], title='Widgets export')"
   ]
  },
  {
   "cell_type": "markdown",
   "metadata": {},
   "source": [
    "### NUR ZUM TESTEN"
   ]
  },
  {
   "cell_type": "code",
   "execution_count": 31,
   "metadata": {},
   "outputs": [
    {
     "data": {
      "application/vnd.jupyter.widget-view+json": {
       "model_id": "abdafb2fccd5430081d5ef478ba3855a",
       "version_major": 2,
       "version_minor": 0
      },
      "text/plain": [
       "VBox(children=(Button(button_style='info', description='Set All', style=ButtonStyle()), FigureWidget({\n",
       "    'da…"
      ]
     },
     "metadata": {},
     "output_type": "display_data"
    }
   ],
   "source": [
    "import plotly.graph_objs as go\n",
    "from ipywidgets import Button, HBox, VBox\n",
    "import plotly_express as px\n",
    "import ipywidgets as widgets\n",
    "import pandas as pd\n",
    "import plotly.offline as py\n",
    "\n",
    "data = pd.read_csv(\"./Data-out/hda_dataset_uniform_random_0.csv\")\n",
    "data = data[:100]\n",
    "data_array = data.event.unique()\n",
    "data1 = data.loc[data.event.isin([\"Invoiced\"])]\n",
    "\n",
    "trace = px.scatter(data, x=\"ts\", y=\"case\", color=\"event\")\n",
    "fig = go.FigureWidget(trace)\n",
    "#print(fig)\n",
    "\n",
    "\n",
    "def update_axes(b):\n",
    "    trace1 = px.scatter(data1, x=\"ts\", y=\"case\", color=\"event\")\n",
    "    fig.data = []\n",
    "    fig.update(data = [d.to_plotly_json() for d in trace1.data])\n",
    "    \n",
    "    \n",
    "\n",
    "\n",
    "    \n",
    "btn_setfilter = widgets.Button(description='Set All', button_style='info' )\n",
    "btn_setfilter.on_click(update_axes)\n",
    "    \n",
    "\n",
    "VBox([btn_setfilter, fig])"
   ]
  },
  {
   "cell_type": "markdown",
   "metadata": {},
   "source": [
    "### Prepare Data for Clustering"
   ]
  },
  {
   "cell_type": "code",
   "execution_count": 95,
   "metadata": {},
   "outputs": [
    {
     "data": {
      "text/html": [
       "<div>\n",
       "<style scoped>\n",
       "    .dataframe tbody tr th:only-of-type {\n",
       "        vertical-align: middle;\n",
       "    }\n",
       "\n",
       "    .dataframe tbody tr th {\n",
       "        vertical-align: top;\n",
       "    }\n",
       "\n",
       "    .dataframe thead th {\n",
       "        text-align: right;\n",
       "    }\n",
       "</style>\n",
       "<table border=\"1\" class=\"dataframe\">\n",
       "  <thead>\n",
       "    <tr style=\"text-align: right;\">\n",
       "      <th></th>\n",
       "      <th>pid</th>\n",
       "      <th>DTYPE</th>\n",
       "    </tr>\n",
       "  </thead>\n",
       "  <tbody>\n",
       "    <tr>\n",
       "      <td>0</td>\n",
       "      <td>63422</td>\n",
       "      <td>DEVICE_TYPE_23</td>\n",
       "    </tr>\n",
       "    <tr>\n",
       "      <td>1</td>\n",
       "      <td>63423</td>\n",
       "      <td>DEVICE_TYPE_156</td>\n",
       "    </tr>\n",
       "    <tr>\n",
       "      <td>2</td>\n",
       "      <td>63424</td>\n",
       "      <td>DEVICE_TYPE_111</td>\n",
       "    </tr>\n",
       "    <tr>\n",
       "      <td>3</td>\n",
       "      <td>63425</td>\n",
       "      <td>DEVICE_TYPE_99</td>\n",
       "    </tr>\n",
       "    <tr>\n",
       "      <td>4</td>\n",
       "      <td>63426</td>\n",
       "      <td>DEVICE_TYPE_135</td>\n",
       "    </tr>\n",
       "    <tr>\n",
       "      <td>...</td>\n",
       "      <td>...</td>\n",
       "      <td>...</td>\n",
       "    </tr>\n",
       "    <tr>\n",
       "      <td>128135</td>\n",
       "      <td>176009</td>\n",
       "      <td>DEVICE_TYPE_111</td>\n",
       "    </tr>\n",
       "    <tr>\n",
       "      <td>128136</td>\n",
       "      <td>176010</td>\n",
       "      <td>DEVICE_TYPE_27</td>\n",
       "    </tr>\n",
       "    <tr>\n",
       "      <td>128137</td>\n",
       "      <td>176011</td>\n",
       "      <td>DEVICE_TYPE_135</td>\n",
       "    </tr>\n",
       "    <tr>\n",
       "      <td>128138</td>\n",
       "      <td>176012</td>\n",
       "      <td>DEVICE_TYPE_135</td>\n",
       "    </tr>\n",
       "    <tr>\n",
       "      <td>128139</td>\n",
       "      <td>176013</td>\n",
       "      <td>DEVICE_TYPE_109</td>\n",
       "    </tr>\n",
       "  </tbody>\n",
       "</table>\n",
       "<p>128140 rows × 2 columns</p>\n",
       "</div>"
      ],
      "text/plain": [
       "           pid            DTYPE\n",
       "0        63422   DEVICE_TYPE_23\n",
       "1        63423  DEVICE_TYPE_156\n",
       "2        63424  DEVICE_TYPE_111\n",
       "3        63425   DEVICE_TYPE_99\n",
       "4        63426  DEVICE_TYPE_135\n",
       "...        ...              ...\n",
       "128135  176009  DEVICE_TYPE_111\n",
       "128136  176010   DEVICE_TYPE_27\n",
       "128137  176011  DEVICE_TYPE_135\n",
       "128138  176012  DEVICE_TYPE_135\n",
       "128139  176013  DEVICE_TYPE_109\n",
       "\n",
       "[128140 rows x 2 columns]"
      ]
     },
     "execution_count": 95,
     "metadata": {},
     "output_type": "execute_result"
    }
   ],
   "source": [
    "brands = pd.read_csv(\"./Data-out/brands.csv\")\n",
    "channels = pd.read_csv(\"./Data-out/channels.csv\")\n",
    "devices = pd.read_csv(\"./Data-out/devices.csv\")\n",
    "\n",
    "devices"
   ]
  },
  {
   "cell_type": "code",
   "execution_count": 47,
   "metadata": {},
   "outputs": [
    {
     "name": "stdout",
     "output_type": "stream",
     "text": [
      "['BRAND_0' 'BRAND_1' 'BRAND_2' 'BRAND_3' 'BRAND_4' 'BRAND_5' 'BRAND_6'\n",
      " 'BRAND_7' 'BRAND_8' 'BRAND_9']\n"
     ]
    }
   ],
   "source": [
    "brandarr = brands.BRAND.unique()\n",
    "print(myarr)\n",
    "brands.BRAND = brands.BRAND.map({'BRAND_0': 0, 'BRAND_1': 1, 'BRAND_2': 3, 'BRAND_4': 4, 'BRAND_5': 5, 'BRAND_6': 6, 'BRAND_7': 7, 'BRAND_8': 8, 'BRAND_9': 9})"
   ]
  },
  {
   "cell_type": "code",
   "execution_count": 51,
   "metadata": {},
   "outputs": [
    {
     "name": "stdout",
     "output_type": "stream",
     "text": [
      "['Onlineshop' 'Telesales' 'Telemarketing']\n"
     ]
    }
   ],
   "source": [
    "print(channels.CHANNEL.unique()) \n",
    "channels.CHANNEL = channels.CHANNEL.map({'Onlineshop': 0, 'Telesales': 1, 'Telemarketing': 2})\n"
   ]
  },
  {
   "cell_type": "code",
   "execution_count": null,
   "metadata": {},
   "outputs": [],
   "source": []
  },
  {
   "cell_type": "code",
   "execution_count": 96,
   "metadata": {
    "scrolled": true
   },
   "outputs": [
    {
     "data": {
      "text/html": [
       "<div>\n",
       "<style scoped>\n",
       "    .dataframe tbody tr th:only-of-type {\n",
       "        vertical-align: middle;\n",
       "    }\n",
       "\n",
       "    .dataframe tbody tr th {\n",
       "        vertical-align: top;\n",
       "    }\n",
       "\n",
       "    .dataframe thead th {\n",
       "        text-align: right;\n",
       "    }\n",
       "</style>\n",
       "<table border=\"1\" class=\"dataframe\">\n",
       "  <thead>\n",
       "    <tr style=\"text-align: right;\">\n",
       "      <th></th>\n",
       "      <th>case</th>\n",
       "      <th>event</th>\n",
       "      <th>ts</th>\n",
       "      <th>CHANNEL</th>\n",
       "      <th>BRAND</th>\n",
       "      <th>DTYPE</th>\n",
       "    </tr>\n",
       "  </thead>\n",
       "  <tbody>\n",
       "    <tr>\n",
       "      <td>0</td>\n",
       "      <td>1</td>\n",
       "      <td>Order imported</td>\n",
       "      <td>2018-09-02 00:02:30</td>\n",
       "      <td>Onlineshop</td>\n",
       "      <td>BRAND_1</td>\n",
       "      <td>NaN</td>\n",
       "    </tr>\n",
       "    <tr>\n",
       "      <td>1</td>\n",
       "      <td>1</td>\n",
       "      <td>Order checked</td>\n",
       "      <td>2018-09-02 00:02:41</td>\n",
       "      <td>Onlineshop</td>\n",
       "      <td>BRAND_1</td>\n",
       "      <td>NaN</td>\n",
       "    </tr>\n",
       "    <tr>\n",
       "      <td>2</td>\n",
       "      <td>1</td>\n",
       "      <td>Address correction</td>\n",
       "      <td>2018-09-02 00:06:21</td>\n",
       "      <td>Onlineshop</td>\n",
       "      <td>BRAND_1</td>\n",
       "      <td>NaN</td>\n",
       "    </tr>\n",
       "    <tr>\n",
       "      <td>3</td>\n",
       "      <td>1</td>\n",
       "      <td>Order creation failed (SYS-2)</td>\n",
       "      <td>2018-09-02 00:07:00</td>\n",
       "      <td>Onlineshop</td>\n",
       "      <td>BRAND_1</td>\n",
       "      <td>NaN</td>\n",
       "    </tr>\n",
       "    <tr>\n",
       "      <td>4</td>\n",
       "      <td>1</td>\n",
       "      <td>Device hand-out</td>\n",
       "      <td>2018-09-03 16:36:00</td>\n",
       "      <td>Onlineshop</td>\n",
       "      <td>BRAND_1</td>\n",
       "      <td>NaN</td>\n",
       "    </tr>\n",
       "    <tr>\n",
       "      <td>...</td>\n",
       "      <td>...</td>\n",
       "      <td>...</td>\n",
       "      <td>...</td>\n",
       "      <td>...</td>\n",
       "      <td>...</td>\n",
       "      <td>...</td>\n",
       "    </tr>\n",
       "    <tr>\n",
       "      <td>1405607</td>\n",
       "      <td>263247</td>\n",
       "      <td>Delivered</td>\n",
       "      <td>2018-12-04 09:27:41</td>\n",
       "      <td>Onlineshop</td>\n",
       "      <td>BRAND_6</td>\n",
       "      <td>NaN</td>\n",
       "    </tr>\n",
       "    <tr>\n",
       "      <td>1405608</td>\n",
       "      <td>263247</td>\n",
       "      <td>Activated</td>\n",
       "      <td>2018-12-04 09:51:03</td>\n",
       "      <td>Onlineshop</td>\n",
       "      <td>BRAND_6</td>\n",
       "      <td>NaN</td>\n",
       "    </tr>\n",
       "    <tr>\n",
       "      <td>1405609</td>\n",
       "      <td>263247</td>\n",
       "      <td>Printed (ERP)</td>\n",
       "      <td>2018-12-04 09:51:21</td>\n",
       "      <td>Onlineshop</td>\n",
       "      <td>BRAND_6</td>\n",
       "      <td>NaN</td>\n",
       "    </tr>\n",
       "    <tr>\n",
       "      <td>1405610</td>\n",
       "      <td>263247</td>\n",
       "      <td>Customer ID transmitted</td>\n",
       "      <td>2018-12-05 09:52:10</td>\n",
       "      <td>Onlineshop</td>\n",
       "      <td>BRAND_6</td>\n",
       "      <td>NaN</td>\n",
       "    </tr>\n",
       "    <tr>\n",
       "      <td>1405611</td>\n",
       "      <td>263247</td>\n",
       "      <td>Invoiced</td>\n",
       "      <td>2018-12-05 23:31:18</td>\n",
       "      <td>Onlineshop</td>\n",
       "      <td>BRAND_6</td>\n",
       "      <td>NaN</td>\n",
       "    </tr>\n",
       "  </tbody>\n",
       "</table>\n",
       "<p>1478576 rows × 6 columns</p>\n",
       "</div>"
      ],
      "text/plain": [
       "           case                          event                   ts  \\\n",
       "0             1                 Order imported  2018-09-02 00:02:30   \n",
       "1             1                  Order checked  2018-09-02 00:02:41   \n",
       "2             1             Address correction  2018-09-02 00:06:21   \n",
       "3             1  Order creation failed (SYS-2)  2018-09-02 00:07:00   \n",
       "4             1                Device hand-out  2018-09-03 16:36:00   \n",
       "...         ...                            ...                  ...   \n",
       "1405607  263247                      Delivered  2018-12-04 09:27:41   \n",
       "1405608  263247                      Activated  2018-12-04 09:51:03   \n",
       "1405609  263247                  Printed (ERP)  2018-12-04 09:51:21   \n",
       "1405610  263247        Customer ID transmitted  2018-12-05 09:52:10   \n",
       "1405611  263247                       Invoiced  2018-12-05 23:31:18   \n",
       "\n",
       "            CHANNEL    BRAND DTYPE  \n",
       "0        Onlineshop  BRAND_1   NaN  \n",
       "1        Onlineshop  BRAND_1   NaN  \n",
       "2        Onlineshop  BRAND_1   NaN  \n",
       "3        Onlineshop  BRAND_1   NaN  \n",
       "4        Onlineshop  BRAND_1   NaN  \n",
       "...             ...      ...   ...  \n",
       "1405607  Onlineshop  BRAND_6   NaN  \n",
       "1405608  Onlineshop  BRAND_6   NaN  \n",
       "1405609  Onlineshop  BRAND_6   NaN  \n",
       "1405610  Onlineshop  BRAND_6   NaN  \n",
       "1405611  Onlineshop  BRAND_6   NaN  \n",
       "\n",
       "[1478576 rows x 6 columns]"
      ]
     },
     "execution_count": 96,
     "metadata": {},
     "output_type": "execute_result"
    }
   ],
   "source": [
    "new_data = df.join(channels.set_index(\"pid\"), on=\"case\")\n",
    "new_data = new_data.join(brands.set_index(\"pid\"), on=\"case\")\n",
    "new_data = new_data.join(devices.set_index(\"pid\"), on=\"case\")\n",
    "\n",
    "new_data"
   ]
  },
  {
   "cell_type": "markdown",
   "metadata": {},
   "source": [
    "## Prepare Data for Sankey-Diagram"
   ]
  },
  {
   "cell_type": "code",
   "execution_count": 28,
   "metadata": {
    "scrolled": true
   },
   "outputs": [
    {
     "name": "stdout",
     "output_type": "stream",
     "text": [
      "1 Order checked, Address correction\n",
      "1 Address correction, Order creation failed (SYS-2)\n",
      "1 Device hand-out, Ready for payment processing\n",
      "1 Ready for payment processing, Documents complete (ERP)\n",
      "1 Processing return delivery, Suspicious (Fraud)\n",
      "2 Order imported, Suspicious (Fraud)\n",
      "3 Suspicious (Fraud), Order checked\n",
      "2 Order checked, Order creation failed (SYS-2)\n",
      "3 Order creation failed (SYS-2), Device hand-out\n",
      "2 Invoiced, Return delivery initiated\n",
      "2 Return delivery initiated, Processing return delivery\n",
      "1 Processing return delivery, Order imported\n",
      "1 Documents complete (ERP), Goods in arrears\n",
      "1 Goods in arrears, Ready to deliver\n",
      "3 Invoiced, Order imported\n",
      "6 Delivery approved, In delivery\n",
      "6 In delivery, Documents complete (ERP)\n",
      "6 Documents complete (ERP), Ready to deliver\n",
      "7 Ready to deliver, Delivered\n",
      "7 Delivered, Activated\n",
      "7 Activated, Printed (ERP)\n",
      "7 Printed (ERP), Customer ID transmitted\n",
      "7 Customer ID transmitted, Invoiced\n",
      "2 Invoiced, Export from online shop\n",
      "2 Export from online shop, Order imported\n",
      "5 Order imported, Order checked\n",
      "5 Order checked, Device hand-out\n",
      "7 Device hand-out, Delivery approved\n"
     ]
    }
   ],
   "source": [
    "data = df['event']\n",
    "data = data[:100]\n",
    "pairs = []\n",
    "\n",
    "\n",
    "for i in range(len(data)-1):\n",
    "    pair = data[i] + \", \" + data[i+1]\n",
    "    pairs.append(pair)\n",
    "    ++i\n",
    "    \n",
    "for j in [ele for ind, ele in enumerate(pairs,1) if ele not in pairs[ind:]]:\n",
    "    count = 0\n",
    "    for ele in pairs:\n",
    "        if j == ele:\n",
    "            count += 1\n",
    "    print(\"{} {}\".format(count,j))\n",
    "    count = 0\n",
    "\n",
    "    "
   ]
  },
  {
   "cell_type": "code",
   "execution_count": 67,
   "metadata": {},
   "outputs": [],
   "source": [
    "from collections import Counter\n",
    "import csv\n",
    "\n",
    "data = df['event']\n",
    "#data = data[:100]\n",
    "pairs = []\n",
    "\n",
    "\n",
    "for i in range(len(data)-1):\n",
    "    pair = data[i] + \",\" + data[i+1]\n",
    "    pairs.append(pair)\n",
    "    ++i\n",
    "\n",
    "# Finding count of each element\n",
    "list_freq= (Counter(pairs))\n",
    "\n",
    "#Printing result of counter\n",
    "#print(list_freq)\n",
    "\n",
    "# # Printing it using loop\n",
    "# for key, value in list_freq.items():\n",
    "#     print(value, key)'\n",
    "\n",
    "\n",
    "with open('counter.csv', mode='w') as fp:\n",
    "    writer = csv.writer(fp)\n",
    "    fp.write('current,next,count\\n')\n",
    "    for key, value in list_freq.items():  \n",
    "        fp.write('{},{}\\n'.format(key, value))  \n",
    "    \n"
   ]
  },
  {
   "cell_type": "code",
   "execution_count": 91,
   "metadata": {},
   "outputs": [
    {
     "data": {
      "text/html": [
       "<div>\n",
       "<style scoped>\n",
       "    .dataframe tbody tr th:only-of-type {\n",
       "        vertical-align: middle;\n",
       "    }\n",
       "\n",
       "    .dataframe tbody tr th {\n",
       "        vertical-align: top;\n",
       "    }\n",
       "\n",
       "    .dataframe thead th {\n",
       "        text-align: right;\n",
       "    }\n",
       "</style>\n",
       "<table border=\"1\" class=\"dataframe\">\n",
       "  <thead>\n",
       "    <tr style=\"text-align: right;\">\n",
       "      <th></th>\n",
       "      <th>current</th>\n",
       "      <th>next</th>\n",
       "      <th>count</th>\n",
       "    </tr>\n",
       "  </thead>\n",
       "  <tbody>\n",
       "    <tr>\n",
       "      <td>8</td>\n",
       "      <td>Ready to deliver</td>\n",
       "      <td>Delivered</td>\n",
       "      <td>103730</td>\n",
       "    </tr>\n",
       "    <tr>\n",
       "      <td>27</td>\n",
       "      <td>Export from online shop</td>\n",
       "      <td>Order imported</td>\n",
       "      <td>103372</td>\n",
       "    </tr>\n",
       "    <tr>\n",
       "      <td>5</td>\n",
       "      <td>Delivery approved</td>\n",
       "      <td>In delivery</td>\n",
       "      <td>91752</td>\n",
       "    </tr>\n",
       "    <tr>\n",
       "      <td>0</td>\n",
       "      <td>Order imported</td>\n",
       "      <td>Order checked</td>\n",
       "      <td>86261</td>\n",
       "    </tr>\n",
       "    <tr>\n",
       "      <td>4</td>\n",
       "      <td>Device hand-out</td>\n",
       "      <td>Delivery approved</td>\n",
       "      <td>80135</td>\n",
       "    </tr>\n",
       "    <tr>\n",
       "      <td>...</td>\n",
       "      <td>...</td>\n",
       "      <td>...</td>\n",
       "      <td>...</td>\n",
       "    </tr>\n",
       "    <tr>\n",
       "      <td>435</td>\n",
       "      <td>Order creation failed (SYS-2)</td>\n",
       "      <td>Activated</td>\n",
       "      <td>1</td>\n",
       "    </tr>\n",
       "    <tr>\n",
       "      <td>434</td>\n",
       "      <td>Delivered</td>\n",
       "      <td>Order creation failed (SYS-2)</td>\n",
       "      <td>1</td>\n",
       "    </tr>\n",
       "    <tr>\n",
       "      <td>149</td>\n",
       "      <td>Return delivery approved</td>\n",
       "      <td>Documents complete (ERP)</td>\n",
       "      <td>1</td>\n",
       "    </tr>\n",
       "    <tr>\n",
       "      <td>432</td>\n",
       "      <td>Suspicious (Fraud)</td>\n",
       "      <td>Documents complete (ERP)</td>\n",
       "      <td>1</td>\n",
       "    </tr>\n",
       "    <tr>\n",
       "      <td>525</td>\n",
       "      <td>Not delivered (ERP)</td>\n",
       "      <td>Export from online shop</td>\n",
       "      <td>1</td>\n",
       "    </tr>\n",
       "  </tbody>\n",
       "</table>\n",
       "<p>526 rows × 3 columns</p>\n",
       "</div>"
      ],
      "text/plain": [
       "                           current                           next   count\n",
       "8                 Ready to deliver                      Delivered  103730\n",
       "27         Export from online shop                 Order imported  103372\n",
       "5                Delivery approved                    In delivery   91752\n",
       "0                   Order imported                  Order checked   86261\n",
       "4                  Device hand-out              Delivery approved   80135\n",
       "..                             ...                            ...     ...\n",
       "435  Order creation failed (SYS-2)                      Activated       1\n",
       "434                      Delivered  Order creation failed (SYS-2)       1\n",
       "149       Return delivery approved       Documents complete (ERP)       1\n",
       "432             Suspicious (Fraud)       Documents complete (ERP)       1\n",
       "525            Not delivered (ERP)        Export from online shop       1\n",
       "\n",
       "[526 rows x 3 columns]"
      ]
     },
     "execution_count": 91,
     "metadata": {},
     "output_type": "execute_result"
    }
   ],
   "source": [
    "test = pd.read_csv('./counter.csv')\n",
    "test.sort_values(by='count', ascending=False)\n"
   ]
  },
  {
   "cell_type": "code",
   "execution_count": 85,
   "metadata": {},
   "outputs": [
    {
     "name": "stdout",
     "output_type": "stream",
     "text": [
      "10     Activated\n",
      "476    Activated\n",
      "Name: current, dtype: object\n"
     ]
    }
   ],
   "source": [
    "event_array = df.event.unique()\n",
    "event_array = sorted(event_array)\n",
    "\n",
    "print(test.current[test.current == 'Activated'])\n",
    "\n",
    "\n",
    "\n",
    "#event_array\n"
   ]
  },
  {
   "cell_type": "code",
   "execution_count": 3,
   "metadata": {},
   "outputs": [],
   "source": [
    "from ipywidgets import IntSlider\n",
    "from ipywidgets.embed import embed_minimal_html\n",
    "\n",
    "slider = IntSlider(value=40)\n",
    "embed_minimal_html('export.html', views=[slider], title='Widgets export')"
   ]
  }
 ],
 "metadata": {
  "kernelspec": {
   "display_name": "Python 3",
   "language": "python",
   "name": "python3"
  },
  "language_info": {
   "codemirror_mode": {
    "name": "ipython",
    "version": 3
   },
   "file_extension": ".py",
   "mimetype": "text/x-python",
   "name": "python",
   "nbconvert_exporter": "python",
   "pygments_lexer": "ipython3",
   "version": "3.7.4"
  },
  "widgets": {
   "application/vnd.jupyter.widget-state+json": {
    "state": {
     "05743bf0757f4a15bf47e9b158b0962c": {
      "model_module": "@jupyter-widgets/controls",
      "model_module_version": "1.5.0",
      "model_name": "DescriptionStyleModel",
      "state": {
       "description_width": ""
      }
     },
     "2186707bca7145cfbc2b78eb4730f4f1": {
      "model_module": "@jupyter-widgets/controls",
      "model_module_version": "1.5.0",
      "model_name": "ComboboxModel",
      "state": {
       "description": "Filter",
       "ensure_option": true,
       "layout": "IPY_MODEL_4b05a2726b704166aa37eba25718cc6c",
       "options": [
        "Order imported",
        "Suspicious (Fraud)",
        "Order checked",
        "Device hand-out",
        "Ready for payment processing",
        "Documents complete (ERP)",
        "Ready to deliver",
        "Delivered",
        "Activated",
        "Printed (ERP)",
        "Customer ID transmitted",
        "Invoiced",
        "Return delivery initiated",
        "Processing return delivery",
        "Delivery approved",
        "In delivery",
        "Goods in arrears",
        "Export from online shop",
        "Personal offer",
        "Order creation failed (SYS-2)"
       ],
       "placeholder": "Filter event",
       "style": "IPY_MODEL_9023e8769df94cfd925b74eeacade3d5"
      }
     },
     "2a82f906d10043adb2adc7d3280ee67c": {
      "model_module": "@jupyter-widgets/output",
      "model_module_version": "1.0.0",
      "model_name": "OutputModel",
      "state": {
       "layout": "IPY_MODEL_83ba364fe6f840e8b3e7bce19f4a32ef"
      }
     },
     "2c0fc8843c6b4513a0f9b5e59dc2ecae": {
      "model_module": "@jupyter-widgets/controls",
      "model_module_version": "1.5.0",
      "model_name": "VBoxModel",
      "state": {
       "children": [
        "IPY_MODEL_b8de1008b17d4965bcca2ba9b7d69468",
        "IPY_MODEL_a56153ebd8fc4ec3822687d7be410d11",
        "IPY_MODEL_5451d6be89df462cb5170f145fed477d",
        "IPY_MODEL_b4e8fa4b55f84443adc0511b9b8de2cc"
       ],
       "layout": "IPY_MODEL_a46eb019de3d47b09ddec4a7925199d2"
      }
     },
     "2f72df9ad5c147bda697b34c28519463": {
      "model_module": "@jupyter-widgets/controls",
      "model_module_version": "1.5.0",
      "model_name": "DropdownModel",
      "state": {
       "_options_labels": [
        "Order imported",
        "Suspicious (Fraud)",
        "Order checked",
        "Device hand-out",
        "Ready for payment processing",
        "Documents complete (ERP)",
        "Ready to deliver",
        "Delivered",
        "Activated",
        "Printed (ERP)",
        "Customer ID transmitted",
        "Invoiced",
        "Return delivery initiated",
        "Processing return delivery",
        "Delivery approved",
        "In delivery",
        "Goods in arrears",
        "Export from online shop",
        "Personal offer",
        "Order creation failed (SYS-2)"
       ],
       "description": "Event",
       "index": 0,
       "layout": "IPY_MODEL_a5734c5f12e6452f94f8278c357f7283",
       "style": "IPY_MODEL_05743bf0757f4a15bf47e9b158b0962c"
      }
     },
     "32869be996d94f599a602721534561b1": {
      "model_module": "@jupyter-widgets/base",
      "model_module_version": "1.2.0",
      "model_name": "LayoutModel",
      "state": {}
     },
     "3378eb1a4c504864a3642dfbea4d3ac0": {
      "model_module": "@jupyter-widgets/base",
      "model_module_version": "1.2.0",
      "model_name": "LayoutModel",
      "state": {}
     },
     "41f57d1652994ef592099c2522ad1a4b": {
      "model_module": "@jupyter-widgets/base",
      "model_module_version": "1.2.0",
      "model_name": "LayoutModel",
      "state": {}
     },
     "45296eca818c445b99d63a7b5a3af57d": {
      "model_module": "@jupyter-widgets/base",
      "model_module_version": "1.2.0",
      "model_name": "LayoutModel",
      "state": {
       "height": "35px",
       "width": "800px"
      }
     },
     "4b05a2726b704166aa37eba25718cc6c": {
      "model_module": "@jupyter-widgets/base",
      "model_module_version": "1.2.0",
      "model_name": "LayoutModel",
      "state": {
       "width": "800px"
      }
     },
     "5451d6be89df462cb5170f145fed477d": {
      "model_module": "@jupyter-widgets/controls",
      "model_module_version": "1.5.0",
      "model_name": "HBoxModel",
      "state": {
       "children": [
        "IPY_MODEL_84f30bd4c41f4c8083b646d510464e85",
        "IPY_MODEL_ac30324bea594956be8ed9494734de6d",
        "IPY_MODEL_bee29b09f87847bf83b0f29587873e65"
       ],
       "layout": "IPY_MODEL_c109911ae26840f9a291d329b06d1373"
      }
     },
     "5612489b659944ac93ddd8f0cde929ff": {
      "model_module": "@jupyter-widgets/base",
      "model_module_version": "1.2.0",
      "model_name": "LayoutModel",
      "state": {}
     },
     "576f2457c9af46238845fe92d50390d5": {
      "model_module": "@jupyter-widgets/controls",
      "model_module_version": "1.5.0",
      "model_name": "ButtonStyleModel",
      "state": {}
     },
     "5d920be8acdc4327a25f8296e3a52726": {
      "model_module": "@jupyter-widgets/base",
      "model_module_version": "1.2.0",
      "model_name": "LayoutModel",
      "state": {}
     },
     "6712f0dae13645a6907356297214c062": {
      "model_module": "@jupyter-widgets/controls",
      "model_module_version": "1.5.0",
      "model_name": "SelectMultipleModel",
      "state": {
       "_options_labels": [
        "Order imported",
        "Suspicious (Fraud)",
        "Order checked",
        "Device hand-out",
        "Ready for payment processing",
        "Documents complete (ERP)",
        "Ready to deliver",
        "Delivered",
        "Activated",
        "Printed (ERP)",
        "Customer ID transmitted",
        "Invoiced",
        "Return delivery initiated",
        "Processing return delivery",
        "Delivery approved",
        "In delivery",
        "Goods in arrears",
        "Export from online shop",
        "Personal offer",
        "Order creation failed (SYS-2)"
       ],
       "description": "Event",
       "index": [
        0,
        1,
        2,
        3,
        4,
        5,
        6,
        7,
        8,
        9,
        10,
        11,
        12,
        13,
        14,
        15,
        16,
        17,
        18,
        19
       ],
       "layout": "IPY_MODEL_32869be996d94f599a602721534561b1",
       "rows": 5,
       "style": "IPY_MODEL_a7ee3e3003224633b8628e031eccf5f7"
      }
     },
     "7af6f1c316a34785b8b0be6303829eb3": {
      "model_module": "@jupyter-widgets/controls",
      "model_module_version": "1.5.0",
      "model_name": "VBoxModel",
      "state": {
       "_dom_classes": [
        "widget-interact"
       ],
       "children": [
        "IPY_MODEL_6712f0dae13645a6907356297214c062",
        "IPY_MODEL_97f510e935d2451dbc1aafcc3309399b"
       ],
       "layout": "IPY_MODEL_5612489b659944ac93ddd8f0cde929ff"
      }
     },
     "7b1125bb2d5049abb653b4c41e559b0d": {
      "model_module": "@jupyter-widgets/controls",
      "model_module_version": "1.5.0",
      "model_name": "DescriptionStyleModel",
      "state": {
       "description_width": ""
      }
     },
     "83ba364fe6f840e8b3e7bce19f4a32ef": {
      "model_module": "@jupyter-widgets/base",
      "model_module_version": "1.2.0",
      "model_name": "LayoutModel",
      "state": {}
     },
     "84f30bd4c41f4c8083b646d510464e85": {
      "model_module": "@jupyter-widgets/controls",
      "model_module_version": "1.5.0",
      "model_name": "ButtonModel",
      "state": {
       "description": "Submit",
       "layout": "IPY_MODEL_3378eb1a4c504864a3642dfbea4d3ac0",
       "style": "IPY_MODEL_8f07cc8a61a0452d9bee57aabb518a02"
      }
     },
     "8a40db0e94554736bfeb361a8fb59ff2": {
      "model_module": "@jupyter-widgets/controls",
      "model_module_version": "1.5.0",
      "model_name": "ButtonStyleModel",
      "state": {}
     },
     "8f07cc8a61a0452d9bee57aabb518a02": {
      "model_module": "@jupyter-widgets/controls",
      "model_module_version": "1.5.0",
      "model_name": "ButtonStyleModel",
      "state": {}
     },
     "9023e8769df94cfd925b74eeacade3d5": {
      "model_module": "@jupyter-widgets/controls",
      "model_module_version": "1.5.0",
      "model_name": "DescriptionStyleModel",
      "state": {
       "description_width": ""
      }
     },
     "97f510e935d2451dbc1aafcc3309399b": {
      "model_module": "@jupyter-widgets/output",
      "model_module_version": "1.0.0",
      "model_name": "OutputModel",
      "state": {
       "layout": "IPY_MODEL_5d920be8acdc4327a25f8296e3a52726"
      }
     },
     "a46eb019de3d47b09ddec4a7925199d2": {
      "model_module": "@jupyter-widgets/base",
      "model_module_version": "1.2.0",
      "model_name": "LayoutModel",
      "state": {}
     },
     "a56153ebd8fc4ec3822687d7be410d11": {
      "model_module": "@jupyter-widgets/controls",
      "model_module_version": "1.5.0",
      "model_name": "TextareaModel",
      "state": {
       "disabled": true,
       "layout": "IPY_MODEL_45296eca818c445b99d63a7b5a3af57d",
       "placeholder": "Selected Filter",
       "style": "IPY_MODEL_7b1125bb2d5049abb653b4c41e559b0d"
      }
     },
     "a5734c5f12e6452f94f8278c357f7283": {
      "model_module": "@jupyter-widgets/base",
      "model_module_version": "1.2.0",
      "model_name": "LayoutModel",
      "state": {}
     },
     "a7ee3e3003224633b8628e031eccf5f7": {
      "model_module": "@jupyter-widgets/controls",
      "model_module_version": "1.5.0",
      "model_name": "DescriptionStyleModel",
      "state": {
       "description_width": ""
      }
     },
     "ac30324bea594956be8ed9494734de6d": {
      "model_module": "@jupyter-widgets/controls",
      "model_module_version": "1.5.0",
      "model_name": "ButtonModel",
      "state": {
       "button_style": "info",
       "description": "Set All",
       "layout": "IPY_MODEL_41f57d1652994ef592099c2522ad1a4b",
       "style": "IPY_MODEL_8a40db0e94554736bfeb361a8fb59ff2"
      }
     },
     "b4e8fa4b55f84443adc0511b9b8de2cc": {
      "model_module": "plotlywidget",
      "model_module_version": "^1.1.1",
      "model_name": "FigureModel",
      "state": {
       "_config": {
        "plotlyServerURL": "https://plot.ly"
       },
       "_data": [
        {
         "hoverlabel": {
          "namelength": 0
         },
         "hovertemplate": "event=Order imported<br>ts=%{x}<br>case=%{y}",
         "legendgroup": "event=Order imported",
         "marker": {
          "color": "#636efa",
          "symbol": "circle"
         },
         "mode": "markers",
         "name": "event=Order imported",
         "showlegend": true,
         "type": "scatter",
         "uid": "036ac024-21db-4dfb-a21f-07cfd9f48ac4",
         "x": [
          "2018-09-02 00:02:33",
          "2018-09-02 00:07:29",
          "2018-09-02 00:07:32",
          "2018-09-02 00:32:39",
          "2018-09-02 05:02:45",
          "2018-09-02 05:02:47",
          "2018-09-02 05:03:43"
         ],
         "xaxis": "x",
         "y": [
          2,
          7,
          8,
          20,
          31,
          32,
          45
         ],
         "yaxis": "y"
        },
        {
         "hoverlabel": {
          "namelength": 0
         },
         "hovertemplate": "event=Suspicious (Fraud)<br>ts=%{x}<br>case=%{y}",
         "legendgroup": "event=Suspicious (Fraud)",
         "marker": {
          "color": "#EF553B",
          "symbol": "circle"
         },
         "mode": "markers",
         "name": "event=Suspicious (Fraud)",
         "showlegend": true,
         "type": "scatter",
         "uid": "58fb3f9f-52c6-4755-830d-21d771925e48",
         "x": [
          "2018-09-02 00:02:46",
          "2018-09-02 00:33:35"
         ],
         "xaxis": "x",
         "y": [
          2,
          20
         ],
         "yaxis": "y"
        },
        {
         "hoverlabel": {
          "namelength": 0
         },
         "hovertemplate": "event=Order checked<br>ts=%{x}<br>case=%{y}",
         "legendgroup": "event=Order checked",
         "marker": {
          "color": "#00cc96",
          "symbol": "circle"
         },
         "mode": "markers",
         "name": "event=Order checked",
         "showlegend": true,
         "type": "scatter",
         "uid": "b1f4ed21-b39d-45ca-aea1-c243e48185ed",
         "x": [
          "2018-09-03 14:26:03",
          "2018-09-02 00:07:45",
          "2018-09-02 00:08:24",
          "2018-09-07 11:10:20",
          "2018-09-02 05:03:00",
          "2018-09-02 05:03:25",
          "2018-09-02 05:05:05"
         ],
         "xaxis": "x",
         "y": [
          2,
          7,
          8,
          20,
          31,
          32,
          45
         ],
         "yaxis": "y"
        },
        {
         "hoverlabel": {
          "namelength": 0
         },
         "hovertemplate": "event=Device hand-out<br>ts=%{x}<br>case=%{y}",
         "legendgroup": "event=Device hand-out",
         "marker": {
          "color": "#ab63fa",
          "symbol": "circle"
         },
         "mode": "markers",
         "name": "event=Device hand-out",
         "showlegend": true,
         "type": "scatter",
         "uid": "63926bdd-9722-4172-a82e-1d12f59d2bc5",
         "x": [
          "2018-09-03 14:27:56",
          "2018-09-02 00:11:50",
          "2018-09-02 00:09:57",
          "2018-09-07 11:15:02",
          "2018-09-02 05:12:29",
          "2018-09-07 12:24:34",
          "2018-09-03 16:38:58"
         ],
         "xaxis": "x",
         "y": [
          2,
          7,
          8,
          20,
          31,
          32,
          45
         ],
         "yaxis": "y"
        },
        {
         "hoverlabel": {
          "namelength": 0
         },
         "hovertemplate": "event=Ready for payment processing<br>ts=%{x}<br>case=%{y}",
         "legendgroup": "event=Ready for payment processing",
         "marker": {
          "color": "#FFA15A",
          "symbol": "circle"
         },
         "mode": "markers",
         "name": "event=Ready for payment processing",
         "showlegend": true,
         "type": "scatter",
         "uid": "445f9c44-d410-451e-84ca-2f6fa07b0455",
         "x": [
          "2018-09-03 14:27:56"
         ],
         "xaxis": "x",
         "y": [
          2
         ],
         "yaxis": "y"
        },
        {
         "hoverlabel": {
          "namelength": 0
         },
         "hovertemplate": "event=Documents complete (ERP)<br>ts=%{x}<br>case=%{y}",
         "legendgroup": "event=Documents complete (ERP)",
         "marker": {
          "color": "#19d3f3",
          "symbol": "circle"
         },
         "mode": "markers",
         "name": "event=Documents complete (ERP)",
         "showlegend": true,
         "type": "scatter",
         "uid": "c7326237-27b9-44b2-a914-e305f2568607",
         "x": [
          "2018-09-03 15:50:48",
          "2018-09-02 00:12:55",
          "2018-09-02 00:11:52",
          "2018-09-07 11:15:29",
          "2018-09-02 05:12:58",
          "2018-09-07 12:24:54",
          "2018-09-03 16:39:30"
         ],
         "xaxis": "x",
         "y": [
          2,
          7,
          8,
          20,
          31,
          32,
          45
         ],
         "yaxis": "y"
        },
        {
         "hoverlabel": {
          "namelength": 0
         },
         "hovertemplate": "event=Ready to deliver<br>ts=%{x}<br>case=%{y}",
         "legendgroup": "event=Ready to deliver",
         "marker": {
          "color": "#FF6692",
          "symbol": "circle"
         },
         "mode": "markers",
         "name": "event=Ready to deliver",
         "showlegend": true,
         "type": "scatter",
         "uid": "28586fca-f329-462b-81a9-94258c476dd5",
         "x": [
          "2018-09-03 16:31:24",
          "2018-09-04 16:02:05",
          "2018-09-03 00:04:40",
          "2018-09-07 11:46:34",
          "2018-09-07 11:02:26",
          "2018-09-07 12:46:38",
          "2018-09-18 21:31:17"
         ],
         "xaxis": "x",
         "y": [
          2,
          7,
          8,
          20,
          31,
          32,
          45
         ],
         "yaxis": "y"
        },
        {
         "hoverlabel": {
          "namelength": 0
         },
         "hovertemplate": "event=Delivered<br>ts=%{x}<br>case=%{y}",
         "legendgroup": "event=Delivered",
         "marker": {
          "color": "#B6E880",
          "symbol": "circle"
         },
         "mode": "markers",
         "name": "event=Delivered",
         "showlegend": true,
         "type": "scatter",
         "uid": "084bec20-54d7-4145-858f-2675d219aa06",
         "x": [
          "2018-09-04 15:01:13",
          "2018-09-05 08:31:44",
          "2018-09-03 10:02:52",
          "2018-09-07 14:16:26",
          "2018-09-07 14:01:56",
          "2018-09-07 14:31:39",
          "2018-09-19 10:01:14"
         ],
         "xaxis": "x",
         "y": [
          2,
          7,
          8,
          20,
          31,
          32,
          45
         ],
         "yaxis": "y"
        },
        {
         "hoverlabel": {
          "namelength": 0
         },
         "hovertemplate": "event=Activated<br>ts=%{x}<br>case=%{y}",
         "legendgroup": "event=Activated",
         "marker": {
          "color": "#FF97FF",
          "symbol": "circle"
         },
         "mode": "markers",
         "name": "event=Activated",
         "showlegend": true,
         "type": "scatter",
         "uid": "956ced17-519d-49ff-ba63-8bea5f3d77c0",
         "x": [
          "2018-09-04 15:15:37",
          "2018-09-05 08:56:35",
          "2018-09-03 11:25:59",
          "2018-09-07 14:39:39",
          "2018-09-07 14:16:26",
          "2018-09-07 15:00:29",
          "2018-09-19 10:17:42"
         ],
         "xaxis": "x",
         "y": [
          2,
          7,
          8,
          20,
          31,
          32,
          45
         ],
         "yaxis": "y"
        },
        {
         "hoverlabel": {
          "namelength": 0
         },
         "hovertemplate": "event=Printed (ERP)<br>ts=%{x}<br>case=%{y}",
         "legendgroup": "event=Printed (ERP)",
         "marker": {
          "color": "#FECB52",
          "symbol": "circle"
         },
         "mode": "markers",
         "name": "event=Printed (ERP)",
         "showlegend": true,
         "type": "scatter",
         "uid": "ea95a956-ad06-4a7c-bcd1-11d288a726ab",
         "x": [
          "2018-09-04 15:15:37",
          "2018-09-05 08:56:35",
          "2018-09-03 11:25:59",
          "2018-09-07 14:39:40",
          "2018-09-07 14:16:26",
          "2018-09-07 15:00:29",
          "2018-09-19 10:17:44"
         ],
         "xaxis": "x",
         "y": [
          2,
          7,
          8,
          20,
          31,
          32,
          45
         ],
         "yaxis": "y"
        },
        {
         "hoverlabel": {
          "namelength": 0
         },
         "hovertemplate": "event=Customer ID transmitted<br>ts=%{x}<br>case=%{y}",
         "legendgroup": "event=Customer ID transmitted",
         "marker": {
          "color": "#636efa",
          "symbol": "circle"
         },
         "mode": "markers",
         "name": "event=Customer ID transmitted",
         "showlegend": true,
         "type": "scatter",
         "uid": "a39be646-7126-409c-8ca2-ab6f1a03234a",
         "x": [
          "2018-09-04 17:16:11",
          "2018-09-05 10:57:15",
          "2018-09-03 13:26:21",
          "2018-09-07 16:39:58",
          "2018-09-07 16:16:55",
          "2018-09-07 17:00:56",
          "2018-09-19 12:18:03"
         ],
         "xaxis": "x",
         "y": [
          2,
          7,
          8,
          20,
          31,
          32,
          45
         ],
         "yaxis": "y"
        },
        {
         "hoverlabel": {
          "namelength": 0
         },
         "hovertemplate": "event=Invoiced<br>ts=%{x}<br>case=%{y}",
         "legendgroup": "event=Invoiced",
         "marker": {
          "color": "#EF553B",
          "symbol": "circle"
         },
         "mode": "markers",
         "name": "event=Invoiced",
         "showlegend": true,
         "type": "scatter",
         "uid": "8da92fef-8bf2-49ea-9dea-af6f76281acd",
         "x": [
          "2018-09-04 22:16:06",
          "2018-09-05 23:01:14",
          "2018-09-03 23:01:40",
          "2018-09-07 23:16:14",
          "2018-09-07 23:16:14",
          "2018-09-07 23:16:14",
          "2018-09-19 23:01:16"
         ],
         "xaxis": "x",
         "y": [
          2,
          7,
          8,
          20,
          31,
          32,
          45
         ],
         "yaxis": "y"
        },
        {
         "hoverlabel": {
          "namelength": 0
         },
         "hovertemplate": "event=Return delivery initiated<br>ts=%{x}<br>case=%{y}",
         "legendgroup": "event=Return delivery initiated",
         "marker": {
          "color": "#00cc96",
          "symbol": "circle"
         },
         "mode": "markers",
         "name": "event=Return delivery initiated",
         "showlegend": true,
         "type": "scatter",
         "uid": "5a3d92af-5a23-47bf-9d5a-1c9ecc63d8b4",
         "x": [
          "2018-09-25 08:46:33",
          "2018-09-21 11:01:12"
         ],
         "xaxis": "x",
         "y": [
          2,
          32
         ],
         "yaxis": "y"
        },
        {
         "hoverlabel": {
          "namelength": 0
         },
         "hovertemplate": "event=Processing return delivery<br>ts=%{x}<br>case=%{y}",
         "legendgroup": "event=Processing return delivery",
         "marker": {
          "color": "#ab63fa",
          "symbol": "circle"
         },
         "mode": "markers",
         "name": "event=Processing return delivery",
         "showlegend": true,
         "type": "scatter",
         "uid": "c4cae1f5-67af-40a2-b966-389bffd7fb33",
         "x": [
          "2018-09-25 09:01:13",
          "2018-09-21 11:16:14"
         ],
         "xaxis": "x",
         "y": [
          2,
          32
         ],
         "yaxis": "y"
        },
        {
         "hoverlabel": {
          "namelength": 0
         },
         "hovertemplate": "event=Delivery approved<br>ts=%{x}<br>case=%{y}",
         "legendgroup": "event=Delivery approved",
         "marker": {
          "color": "#FFA15A",
          "symbol": "circle"
         },
         "mode": "markers",
         "name": "event=Delivery approved",
         "showlegend": true,
         "type": "scatter",
         "uid": "d3b471fb-be49-403a-bcb8-97189aadd24b",
         "x": [
          "2018-09-02 00:11:50",
          "2018-09-02 00:09:57",
          "2018-09-07 11:15:02",
          "2018-09-02 05:12:29",
          "2018-09-07 12:24:34",
          "2018-09-03 16:38:58"
         ],
         "xaxis": "x",
         "y": [
          7,
          8,
          20,
          31,
          32,
          45
         ],
         "yaxis": "y"
        },
        {
         "hoverlabel": {
          "namelength": 0
         },
         "hovertemplate": "event=In delivery<br>ts=%{x}<br>case=%{y}",
         "legendgroup": "event=In delivery",
         "marker": {
          "color": "#19d3f3",
          "symbol": "circle"
         },
         "mode": "markers",
         "name": "event=In delivery",
         "showlegend": true,
         "type": "scatter",
         "uid": "ab90e276-a764-4f51-8428-af4272210f5d",
         "x": [
          "2018-09-02 00:11:50",
          "2018-09-02 00:10:00",
          "2018-09-07 11:15:04",
          "2018-09-02 05:12:29",
          "2018-09-07 12:24:34",
          "2018-09-03 16:38:59"
         ],
         "xaxis": "x",
         "y": [
          7,
          8,
          20,
          31,
          32,
          45
         ],
         "yaxis": "y"
        },
        {
         "hoverlabel": {
          "namelength": 0
         },
         "hovertemplate": "event=Goods in arrears<br>ts=%{x}<br>case=%{y}",
         "legendgroup": "event=Goods in arrears",
         "marker": {
          "color": "#FF6692",
          "symbol": "circle"
         },
         "mode": "markers",
         "name": "event=Goods in arrears",
         "showlegend": true,
         "type": "scatter",
         "uid": "3b6e4ead-9ff3-46e7-8f66-4f4f5ed9fd7e",
         "x": [
          "2018-09-02 05:05:21",
          "2018-09-02 05:13:15",
          "2018-09-03 16:39:54"
         ],
         "xaxis": "x",
         "y": [
          7,
          31,
          45
         ],
         "yaxis": "y"
        },
        {
         "hoverlabel": {
          "namelength": 0
         },
         "hovertemplate": "event=Export from online shop<br>ts=%{x}<br>case=%{y}",
         "legendgroup": "event=Export from online shop",
         "marker": {
          "color": "#B6E880",
          "symbol": "circle"
         },
         "mode": "markers",
         "name": "event=Export from online shop",
         "showlegend": true,
         "type": "scatter",
         "uid": "e9871475-1e94-460e-abc4-64c561f3e404",
         "x": [
          "2018-09-02 00:01:46",
          "2018-09-02 00:17:37",
          "2018-09-02 00:52:13",
          "2018-09-02 01:01:00",
          "2018-09-02 01:36:50",
          "2018-09-02 03:20:10"
         ],
         "xaxis": "x",
         "y": [
          8,
          20,
          31,
          32,
          45,
          60
         ],
         "yaxis": "y"
        },
        {
         "hoverlabel": {
          "namelength": 0
         },
         "hovertemplate": "event=Personal offer<br>ts=%{x}<br>case=%{y}",
         "legendgroup": "event=Personal offer",
         "marker": {
          "color": "#FF97FF",
          "symbol": "circle"
         },
         "mode": "markers",
         "name": "event=Personal offer",
         "showlegend": true,
         "type": "scatter",
         "uid": "a16306e3-6991-4c87-8d8b-f3a750918408",
         "x": [
          "2018-09-02 05:07:17"
         ],
         "xaxis": "x",
         "y": [
          32
         ],
         "yaxis": "y"
        },
        {
         "hoverlabel": {
          "namelength": 0
         },
         "hovertemplate": "event=Order creation failed (SYS-2)<br>ts=%{x}<br>case=%{y}",
         "legendgroup": "event=Order creation failed (SYS-2)",
         "marker": {
          "color": "#FECB52",
          "symbol": "circle"
         },
         "mode": "markers",
         "name": "event=Order creation failed (SYS-2)",
         "showlegend": true,
         "type": "scatter",
         "uid": "1ab58984-6320-4730-b0b5-9e49302f46d0",
         "x": [
          "2018-09-02 05:08:11"
         ],
         "xaxis": "x",
         "y": [
          45
         ],
         "yaxis": "y"
        }
       ],
       "_js2py_pointsCallback": {},
       "_js2py_restyle": {},
       "_js2py_update": {},
       "_last_layout_edit_id": 1,
       "_layout": {
        "autosize": true,
        "height": 600,
        "legend": {
         "tracegroupgap": 0
        },
        "margin": {
         "t": 60
        },
        "template": {
         "data": {
          "bar": [
           {
            "error_x": {
             "color": "#2a3f5f"
            },
            "error_y": {
             "color": "#2a3f5f"
            },
            "marker": {
             "line": {
              "color": "#E5ECF6",
              "width": 0.5
             }
            },
            "type": "bar"
           }
          ],
          "barpolar": [
           {
            "marker": {
             "line": {
              "color": "#E5ECF6",
              "width": 0.5
             }
            },
            "type": "barpolar"
           }
          ],
          "carpet": [
           {
            "aaxis": {
             "endlinecolor": "#2a3f5f",
             "gridcolor": "white",
             "linecolor": "white",
             "minorgridcolor": "white",
             "startlinecolor": "#2a3f5f"
            },
            "baxis": {
             "endlinecolor": "#2a3f5f",
             "gridcolor": "white",
             "linecolor": "white",
             "minorgridcolor": "white",
             "startlinecolor": "#2a3f5f"
            },
            "type": "carpet"
           }
          ],
          "choropleth": [
           {
            "colorbar": {
             "outlinewidth": 0,
             "ticks": ""
            },
            "type": "choropleth"
           }
          ],
          "contour": [
           {
            "colorbar": {
             "outlinewidth": 0,
             "ticks": ""
            },
            "colorscale": [
             [
              0,
              "#0d0887"
             ],
             [
              0.1111111111111111,
              "#46039f"
             ],
             [
              0.2222222222222222,
              "#7201a8"
             ],
             [
              0.3333333333333333,
              "#9c179e"
             ],
             [
              0.4444444444444444,
              "#bd3786"
             ],
             [
              0.5555555555555556,
              "#d8576b"
             ],
             [
              0.6666666666666666,
              "#ed7953"
             ],
             [
              0.7777777777777778,
              "#fb9f3a"
             ],
             [
              0.8888888888888888,
              "#fdca26"
             ],
             [
              1,
              "#f0f921"
             ]
            ],
            "type": "contour"
           }
          ],
          "contourcarpet": [
           {
            "colorbar": {
             "outlinewidth": 0,
             "ticks": ""
            },
            "type": "contourcarpet"
           }
          ],
          "heatmap": [
           {
            "colorbar": {
             "outlinewidth": 0,
             "ticks": ""
            },
            "colorscale": [
             [
              0,
              "#0d0887"
             ],
             [
              0.1111111111111111,
              "#46039f"
             ],
             [
              0.2222222222222222,
              "#7201a8"
             ],
             [
              0.3333333333333333,
              "#9c179e"
             ],
             [
              0.4444444444444444,
              "#bd3786"
             ],
             [
              0.5555555555555556,
              "#d8576b"
             ],
             [
              0.6666666666666666,
              "#ed7953"
             ],
             [
              0.7777777777777778,
              "#fb9f3a"
             ],
             [
              0.8888888888888888,
              "#fdca26"
             ],
             [
              1,
              "#f0f921"
             ]
            ],
            "type": "heatmap"
           }
          ],
          "heatmapgl": [
           {
            "colorbar": {
             "outlinewidth": 0,
             "ticks": ""
            },
            "colorscale": [
             [
              0,
              "#0d0887"
             ],
             [
              0.1111111111111111,
              "#46039f"
             ],
             [
              0.2222222222222222,
              "#7201a8"
             ],
             [
              0.3333333333333333,
              "#9c179e"
             ],
             [
              0.4444444444444444,
              "#bd3786"
             ],
             [
              0.5555555555555556,
              "#d8576b"
             ],
             [
              0.6666666666666666,
              "#ed7953"
             ],
             [
              0.7777777777777778,
              "#fb9f3a"
             ],
             [
              0.8888888888888888,
              "#fdca26"
             ],
             [
              1,
              "#f0f921"
             ]
            ],
            "type": "heatmapgl"
           }
          ],
          "histogram": [
           {
            "marker": {
             "colorbar": {
              "outlinewidth": 0,
              "ticks": ""
             }
            },
            "type": "histogram"
           }
          ],
          "histogram2d": [
           {
            "colorbar": {
             "outlinewidth": 0,
             "ticks": ""
            },
            "colorscale": [
             [
              0,
              "#0d0887"
             ],
             [
              0.1111111111111111,
              "#46039f"
             ],
             [
              0.2222222222222222,
              "#7201a8"
             ],
             [
              0.3333333333333333,
              "#9c179e"
             ],
             [
              0.4444444444444444,
              "#bd3786"
             ],
             [
              0.5555555555555556,
              "#d8576b"
             ],
             [
              0.6666666666666666,
              "#ed7953"
             ],
             [
              0.7777777777777778,
              "#fb9f3a"
             ],
             [
              0.8888888888888888,
              "#fdca26"
             ],
             [
              1,
              "#f0f921"
             ]
            ],
            "type": "histogram2d"
           }
          ],
          "histogram2dcontour": [
           {
            "colorbar": {
             "outlinewidth": 0,
             "ticks": ""
            },
            "colorscale": [
             [
              0,
              "#0d0887"
             ],
             [
              0.1111111111111111,
              "#46039f"
             ],
             [
              0.2222222222222222,
              "#7201a8"
             ],
             [
              0.3333333333333333,
              "#9c179e"
             ],
             [
              0.4444444444444444,
              "#bd3786"
             ],
             [
              0.5555555555555556,
              "#d8576b"
             ],
             [
              0.6666666666666666,
              "#ed7953"
             ],
             [
              0.7777777777777778,
              "#fb9f3a"
             ],
             [
              0.8888888888888888,
              "#fdca26"
             ],
             [
              1,
              "#f0f921"
             ]
            ],
            "type": "histogram2dcontour"
           }
          ],
          "mesh3d": [
           {
            "colorbar": {
             "outlinewidth": 0,
             "ticks": ""
            },
            "type": "mesh3d"
           }
          ],
          "parcoords": [
           {
            "line": {
             "colorbar": {
              "outlinewidth": 0,
              "ticks": ""
             }
            },
            "type": "parcoords"
           }
          ],
          "scatter": [
           {
            "marker": {
             "colorbar": {
              "outlinewidth": 0,
              "ticks": ""
             }
            },
            "type": "scatter"
           }
          ],
          "scatter3d": [
           {
            "line": {
             "colorbar": {
              "outlinewidth": 0,
              "ticks": ""
             }
            },
            "marker": {
             "colorbar": {
              "outlinewidth": 0,
              "ticks": ""
             }
            },
            "type": "scatter3d"
           }
          ],
          "scattercarpet": [
           {
            "marker": {
             "colorbar": {
              "outlinewidth": 0,
              "ticks": ""
             }
            },
            "type": "scattercarpet"
           }
          ],
          "scattergeo": [
           {
            "marker": {
             "colorbar": {
              "outlinewidth": 0,
              "ticks": ""
             }
            },
            "type": "scattergeo"
           }
          ],
          "scattergl": [
           {
            "marker": {
             "colorbar": {
              "outlinewidth": 0,
              "ticks": ""
             }
            },
            "type": "scattergl"
           }
          ],
          "scattermapbox": [
           {
            "marker": {
             "colorbar": {
              "outlinewidth": 0,
              "ticks": ""
             }
            },
            "type": "scattermapbox"
           }
          ],
          "scatterpolar": [
           {
            "marker": {
             "colorbar": {
              "outlinewidth": 0,
              "ticks": ""
             }
            },
            "type": "scatterpolar"
           }
          ],
          "scatterpolargl": [
           {
            "marker": {
             "colorbar": {
              "outlinewidth": 0,
              "ticks": ""
             }
            },
            "type": "scatterpolargl"
           }
          ],
          "scatterternary": [
           {
            "marker": {
             "colorbar": {
              "outlinewidth": 0,
              "ticks": ""
             }
            },
            "type": "scatterternary"
           }
          ],
          "surface": [
           {
            "colorbar": {
             "outlinewidth": 0,
             "ticks": ""
            },
            "colorscale": [
             [
              0,
              "#0d0887"
             ],
             [
              0.1111111111111111,
              "#46039f"
             ],
             [
              0.2222222222222222,
              "#7201a8"
             ],
             [
              0.3333333333333333,
              "#9c179e"
             ],
             [
              0.4444444444444444,
              "#bd3786"
             ],
             [
              0.5555555555555556,
              "#d8576b"
             ],
             [
              0.6666666666666666,
              "#ed7953"
             ],
             [
              0.7777777777777778,
              "#fb9f3a"
             ],
             [
              0.8888888888888888,
              "#fdca26"
             ],
             [
              1,
              "#f0f921"
             ]
            ],
            "type": "surface"
           }
          ],
          "table": [
           {
            "cells": {
             "fill": {
              "color": "#EBF0F8"
             },
             "line": {
              "color": "white"
             }
            },
            "header": {
             "fill": {
              "color": "#C8D4E3"
             },
             "line": {
              "color": "white"
             }
            },
            "type": "table"
           }
          ]
         },
         "layout": {
          "annotationdefaults": {
           "arrowcolor": "#2a3f5f",
           "arrowhead": 0,
           "arrowwidth": 1
          },
          "colorscale": {
           "diverging": [
            [
             0,
             "#8e0152"
            ],
            [
             0.1,
             "#c51b7d"
            ],
            [
             0.2,
             "#de77ae"
            ],
            [
             0.3,
             "#f1b6da"
            ],
            [
             0.4,
             "#fde0ef"
            ],
            [
             0.5,
             "#f7f7f7"
            ],
            [
             0.6,
             "#e6f5d0"
            ],
            [
             0.7,
             "#b8e186"
            ],
            [
             0.8,
             "#7fbc41"
            ],
            [
             0.9,
             "#4d9221"
            ],
            [
             1,
             "#276419"
            ]
           ],
           "sequential": [
            [
             0,
             "#0d0887"
            ],
            [
             0.1111111111111111,
             "#46039f"
            ],
            [
             0.2222222222222222,
             "#7201a8"
            ],
            [
             0.3333333333333333,
             "#9c179e"
            ],
            [
             0.4444444444444444,
             "#bd3786"
            ],
            [
             0.5555555555555556,
             "#d8576b"
            ],
            [
             0.6666666666666666,
             "#ed7953"
            ],
            [
             0.7777777777777778,
             "#fb9f3a"
            ],
            [
             0.8888888888888888,
             "#fdca26"
            ],
            [
             1,
             "#f0f921"
            ]
           ],
           "sequentialminus": [
            [
             0,
             "#0d0887"
            ],
            [
             0.1111111111111111,
             "#46039f"
            ],
            [
             0.2222222222222222,
             "#7201a8"
            ],
            [
             0.3333333333333333,
             "#9c179e"
            ],
            [
             0.4444444444444444,
             "#bd3786"
            ],
            [
             0.5555555555555556,
             "#d8576b"
            ],
            [
             0.6666666666666666,
             "#ed7953"
            ],
            [
             0.7777777777777778,
             "#fb9f3a"
            ],
            [
             0.8888888888888888,
             "#fdca26"
            ],
            [
             1,
             "#f0f921"
            ]
           ]
          },
          "colorway": [
           "#636efa",
           "#EF553B",
           "#00cc96",
           "#ab63fa",
           "#FFA15A",
           "#19d3f3",
           "#FF6692",
           "#B6E880",
           "#FF97FF",
           "#FECB52"
          ],
          "font": {
           "color": "#2a3f5f"
          },
          "geo": {
           "bgcolor": "white",
           "lakecolor": "white",
           "landcolor": "#E5ECF6",
           "showlakes": true,
           "showland": true,
           "subunitcolor": "white"
          },
          "hoverlabel": {
           "align": "left"
          },
          "hovermode": "closest",
          "mapbox": {
           "style": "light"
          },
          "paper_bgcolor": "white",
          "plot_bgcolor": "#E5ECF6",
          "polar": {
           "angularaxis": {
            "gridcolor": "white",
            "linecolor": "white",
            "ticks": ""
           },
           "bgcolor": "#E5ECF6",
           "radialaxis": {
            "gridcolor": "white",
            "linecolor": "white",
            "ticks": ""
           }
          },
          "scene": {
           "xaxis": {
            "backgroundcolor": "#E5ECF6",
            "gridcolor": "white",
            "gridwidth": 2,
            "linecolor": "white",
            "showbackground": true,
            "ticks": "",
            "zerolinecolor": "white"
           },
           "yaxis": {
            "backgroundcolor": "#E5ECF6",
            "gridcolor": "white",
            "gridwidth": 2,
            "linecolor": "white",
            "showbackground": true,
            "ticks": "",
            "zerolinecolor": "white"
           },
           "zaxis": {
            "backgroundcolor": "#E5ECF6",
            "gridcolor": "white",
            "gridwidth": 2,
            "linecolor": "white",
            "showbackground": true,
            "ticks": "",
            "zerolinecolor": "white"
           }
          },
          "shapedefaults": {
           "line": {
            "color": "#2a3f5f"
           }
          },
          "ternary": {
           "aaxis": {
            "gridcolor": "white",
            "linecolor": "white",
            "ticks": ""
           },
           "baxis": {
            "gridcolor": "white",
            "linecolor": "white",
            "ticks": ""
           },
           "bgcolor": "#E5ECF6",
           "caxis": {
            "gridcolor": "white",
            "linecolor": "white",
            "ticks": ""
           }
          },
          "title": {
           "x": 0.05
          },
          "xaxis": {
           "automargin": true,
           "gridcolor": "white",
           "linecolor": "white",
           "ticks": "",
           "zerolinecolor": "white",
           "zerolinewidth": 2
          },
          "yaxis": {
           "automargin": true,
           "gridcolor": "white",
           "linecolor": "white",
           "ticks": "",
           "zerolinecolor": "white",
           "zerolinewidth": 2
          }
         }
        },
        "xaxis": {
         "anchor": "y",
         "domain": [
          0,
          0.98
         ],
         "title": {
          "text": "ts"
         }
        },
        "yaxis": {
         "anchor": "x",
         "domain": [
          0,
          1
         ],
         "title": {
          "text": "case"
         }
        }
       },
       "_py2js_addTraces": {},
       "_py2js_animate": {},
       "_py2js_deleteTraces": {},
       "_py2js_moveTraces": {},
       "_py2js_removeLayoutProps": {},
       "_py2js_removeTraceProps": {},
       "_py2js_restyle": {},
       "_py2js_update": {},
       "_view_count": 1
      }
     },
     "b8de1008b17d4965bcca2ba9b7d69468": {
      "model_module": "@jupyter-widgets/controls",
      "model_module_version": "1.5.0",
      "model_name": "VBoxModel",
      "state": {
       "_dom_classes": [
        "widget-interact"
       ],
       "children": [
        "IPY_MODEL_2186707bca7145cfbc2b78eb4730f4f1",
        "IPY_MODEL_2a82f906d10043adb2adc7d3280ee67c"
       ],
       "layout": "IPY_MODEL_fd1ab3d4411d4c2e9c7052d22e3a9bfe"
      }
     },
     "bee29b09f87847bf83b0f29587873e65": {
      "model_module": "@jupyter-widgets/controls",
      "model_module_version": "1.5.0",
      "model_name": "ButtonModel",
      "state": {
       "button_style": "danger",
       "description": "Clear Filter",
       "layout": "IPY_MODEL_ceafa3c654ed4a678bc3a0722387ab8a",
       "style": "IPY_MODEL_576f2457c9af46238845fe92d50390d5"
      }
     },
     "c109911ae26840f9a291d329b06d1373": {
      "model_module": "@jupyter-widgets/base",
      "model_module_version": "1.2.0",
      "model_name": "LayoutModel",
      "state": {}
     },
     "ceafa3c654ed4a678bc3a0722387ab8a": {
      "model_module": "@jupyter-widgets/base",
      "model_module_version": "1.2.0",
      "model_name": "LayoutModel",
      "state": {}
     },
     "fd1ab3d4411d4c2e9c7052d22e3a9bfe": {
      "model_module": "@jupyter-widgets/base",
      "model_module_version": "1.2.0",
      "model_name": "LayoutModel",
      "state": {}
     }
    },
    "version_major": 2,
    "version_minor": 0
   }
  }
 },
 "nbformat": 4,
 "nbformat_minor": 2
}
