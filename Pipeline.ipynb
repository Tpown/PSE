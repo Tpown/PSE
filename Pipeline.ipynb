{
 "cells": [
  {
   "cell_type": "markdown",
   "metadata": {},
   "source": [
    "# Importing data and cleaning data"
   ]
  },
  {
   "cell_type": "code",
   "execution_count": 2,
   "metadata": {},
   "outputs": [],
   "source": [
    "import pandas as pd\n",
    "import numpy as np\n",
    "import glob\n",
    "\n",
    "pd.set_option('display.max_columns', None)  # or 1000\n",
    "pd.set_option('display.max_rows', None)  # or 1000\n",
    "pd.set_option('display.max_colwidth', -1)  # or 199\n",
    "\n",
    "path = r'./Data-out' \n",
    "all_files = glob.glob(path + \"/hda_dataset_uniform_random_[0-7].csv\")\n",
    "all_files.sort()\n",
    "\n",
    "#dataset = pd.read_csv(\"./Data-out/hda_dataset_uniform_random_0.csv\")\n",
    "\n",
    "\n",
    "df = (pd.read_csv(f) for f in all_files)\n",
    "concat_df = pd.concat(df).drop_duplicates().reset_index(drop=True)\n",
    "concat_df = concat_df.sort_values(by=['case', 'ts'])\n",
    "#concat_df.to_csv('out.csv')\n"
   ]
  },
  {
   "cell_type": "code",
   "execution_count": null,
   "metadata": {},
   "outputs": [],
   "source": [
    "import pandas as pd\n",
    "import numpy as np\n",
    "import glob\n",
    "\n",
    "pd.set_option('display.max_columns', None)  # or 1000\n",
    "pd.set_option('display.max_rows', None)  # or 1000\n",
    "pd.set_option('display.max_colwidth', -1)  \n",
    "\n",
    "path = r'./../Test/' \n",
    "all_files = glob.glob(path + \"/test[1-3].csv\")\n",
    "all_files.sort()\n",
    "\n",
    "df = (pd.read_csv(f) for f in all_files)\n",
    "concat_df = pd.concat(df).drop_duplicates().reset_index(drop=True)\n",
    "concat_df.sort_values(by=['case', 'ts'])"
   ]
  },
  {
   "cell_type": "code",
   "execution_count": 3,
   "metadata": {},
   "outputs": [
    {
     "data": {
      "text/html": [
       "<div>\n",
       "<style scoped>\n",
       "    .dataframe tbody tr th:only-of-type {\n",
       "        vertical-align: middle;\n",
       "    }\n",
       "\n",
       "    .dataframe tbody tr th {\n",
       "        vertical-align: top;\n",
       "    }\n",
       "\n",
       "    .dataframe thead th {\n",
       "        text-align: right;\n",
       "    }\n",
       "</style>\n",
       "<table border=\"1\" class=\"dataframe\">\n",
       "  <thead>\n",
       "    <tr style=\"text-align: right;\">\n",
       "      <th></th>\n",
       "      <th>case</th>\n",
       "      <th>event</th>\n",
       "      <th>ts</th>\n",
       "    </tr>\n",
       "  </thead>\n",
       "  <tbody>\n",
       "    <tr>\n",
       "      <td>813070</td>\n",
       "      <td>1</td>\n",
       "      <td>Order imported</td>\n",
       "      <td>2018-09-02 00:02:30</td>\n",
       "    </tr>\n",
       "    <tr>\n",
       "      <td>813071</td>\n",
       "      <td>1</td>\n",
       "      <td>Order checked</td>\n",
       "      <td>2018-09-02 00:02:41</td>\n",
       "    </tr>\n",
       "    <tr>\n",
       "      <td>813072</td>\n",
       "      <td>1</td>\n",
       "      <td>Address correction</td>\n",
       "      <td>2018-09-02 00:06:21</td>\n",
       "    </tr>\n",
       "    <tr>\n",
       "      <td>813073</td>\n",
       "      <td>1</td>\n",
       "      <td>Order creation failed (SYS-2)</td>\n",
       "      <td>2018-09-02 00:07:00</td>\n",
       "    </tr>\n",
       "    <tr>\n",
       "      <td>813074</td>\n",
       "      <td>1</td>\n",
       "      <td>Device hand-out</td>\n",
       "      <td>2018-09-03 16:36:00</td>\n",
       "    </tr>\n",
       "  </tbody>\n",
       "</table>\n",
       "</div>"
      ],
      "text/plain": [
       "        case                          event                   ts\n",
       "813070  1     Order imported                 2018-09-02 00:02:30\n",
       "813071  1     Order checked                  2018-09-02 00:02:41\n",
       "813072  1     Address correction             2018-09-02 00:06:21\n",
       "813073  1     Order creation failed (SYS-2)  2018-09-02 00:07:00\n",
       "813074  1     Device hand-out                2018-09-03 16:36:00"
      ]
     },
     "execution_count": 3,
     "metadata": {},
     "output_type": "execute_result"
    }
   ],
   "source": [
    "concat_df.head()"
   ]
  }
 ],
 "metadata": {
  "kernelspec": {
   "display_name": "Python 3",
   "language": "python",
   "name": "python3"
  },
  "language_info": {
   "codemirror_mode": {
    "name": "ipython",
    "version": 3
   },
   "file_extension": ".py",
   "mimetype": "text/x-python",
   "name": "python",
   "nbconvert_exporter": "python",
   "pygments_lexer": "ipython3",
   "version": "3.7.4"
  }
 },
 "nbformat": 4,
 "nbformat_minor": 2
}
