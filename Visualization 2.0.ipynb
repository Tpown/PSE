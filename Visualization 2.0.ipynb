{
 "cells": [
  {
   "cell_type": "markdown",
   "metadata": {},
   "source": [
    "# Visualization of the Data\n",
    "### Preparing the data"
   ]
  },
  {
   "cell_type": "code",
   "execution_count": 1,
   "metadata": {},
   "outputs": [],
   "source": [
    "import pandas as pd\n",
    "import numpy as np\n",
    "import glob\n",
    "\n",
    "def load_preprocess_data():\n",
    "    path = r'./Data-out' \n",
    "    all_files = glob.glob(path + \"/hda_dataset_uniform_random_[0-7].csv\")\n",
    "    all_files.sort()\n",
    "    \n",
    "    #Load all data\n",
    "    df = (pd.read_csv(f) for f in all_files)\n",
    "    \n",
    "    #Merge all the files with each other\n",
    "    #Drop all duplicates\n",
    "    concat_df = pd.concat(df).drop_duplicates().reset_index(drop=True)\n",
    "    concat_df = concat_df.sort_values(by=['case', 'ts'])\n",
    "    #reset index\n",
    "    concat_df = concat_df.reset_index(drop=True)\n",
    "    #Create a csv file\n",
    "    #concat_df.to_csv('test1.csv')\n",
    "    return concat_df"
   ]
  },
  {
   "cell_type": "code",
   "execution_count": 22,
   "metadata": {},
   "outputs": [],
   "source": [
    "data = load_preprocess_data()"
   ]
  },
  {
   "cell_type": "markdown",
   "metadata": {},
   "source": [
    "## Visualization 1.0\n",
    "#### Building a filter for the Data"
   ]
  },
  {
   "cell_type": "code",
   "execution_count": 28,
   "metadata": {},
   "outputs": [
    {
     "data": {
      "application/vnd.jupyter.widget-view+json": {
       "model_id": "8503b3ee51a4481bb0f6211ccbdea8c8",
       "version_major": 2,
       "version_minor": 0
      },
      "text/plain": [
       "VBox(children=(interactive(children=(Combobox(value='', description='Filter', ensure_option=True, layout=Layou…"
      ]
     },
     "metadata": {},
     "output_type": "display_data"
    }
   ],
   "source": [
    "import plotly_express as px\n",
    "import plotly.graph_objs as go\n",
    "import ipywidgets as widgets\n",
    "from ipywidgets import interactive, HBox, VBox, Layout\n",
    "import time\n",
    "\n",
    "data_array = data.event.unique()\n",
    "\n",
    "trace = px.scatter(data, x=\"ts\", y=\"case\", color=\"event\")\n",
    "fig = go.FigureWidget(trace)\n",
    "\n",
    "#Funktion für ComboBox\n",
    "combobox_arr = []\n",
    "def update_event_cb(select_event):\n",
    "    if select_event:\n",
    "        if select_event not in combobox_arr:\n",
    "            combobox_arr.append(select_event)\n",
    "            text_area.value = ', '.join(combobox_arr)\n",
    "    time.sleep(0.5)\n",
    "    combobox.value =''\n",
    "          \n",
    "#Funktion für Filter zurücksetzen  \n",
    "def clear_filter(b):\n",
    "    empty_list =[]\n",
    "    global combobox_arr\n",
    "    combobox_arr = empty_list\n",
    "    selected_data = data.loc[data.event.isin(combobox_arr)]\n",
    "    trace1 = px.scatter(selected_data, x=\"ts\", y=\"case\", color=\"event\")\n",
    "    fig.data = []\n",
    "    fig.update(data = [d.to_plotly_json() for d in trace1.data])\n",
    "    text_area.value = ''\n",
    "\n",
    "#Funktion für alle Events im Filter setzen    \n",
    "def set_filter(b):\n",
    "    trace1 = px.scatter(data, x=\"ts\", y=\"case\", color=\"event\")\n",
    "    fig.data = []\n",
    "    fig.update(data = [d.to_plotly_json() for d in trace1.data])\n",
    "    text_area.value = ', '.join(data_array)\n",
    "    \n",
    "#Funktion für submit button    \n",
    "def submit_filter(b):\n",
    "    selected_data = data.loc[data.event.isin(combobox_arr)]\n",
    "    trace1 = px.scatter(selected_data, x=\"ts\", y=\"case\", color=\"event\")\n",
    "    fig.data = []\n",
    "    fig.update(data = [d.to_plotly_json() for d in trace1.data])\n",
    "    \n",
    "\n",
    "event_tuple = tuple(data_array)  \n",
    "#Definition der Widgets\n",
    "select_multiple = widgets.SelectMultiple(options=data_array, value=event_tuple ,description='Event')\n",
    "combobox = widgets.Combobox(placeholder=\"Filter event\", options=event_tuple, description=\"Filter\", \n",
    "                            ensure_option=True, disabled=False,\n",
    "                            layout=Layout(width='800px'))\n",
    "\n",
    "#Definition von Buttons\n",
    "btn_clearfilter = widgets.Button(description='Clear Filter', button_style='danger')\n",
    "btn_setfilter = widgets.Button(description='Set All', button_style='info' )\n",
    "btn_submit = widgets.Button(description='Submit')\n",
    "text_area = widgets.Textarea(placeholder='Selected Filter', disabled = True, \n",
    "                             layout=Layout(width='800px', height='35px'))\n",
    "\n",
    "#Interaktion der Widgets\n",
    "cb = interactive(update_event_cb, select_event=combobox)\n",
    "btn_clearfilter.on_click(clear_filter)\n",
    "btn_setfilter.on_click(set_filter)\n",
    "btn_submit.on_click(submit_filter)\n",
    "\n",
    "\n",
    "VBox([cb, text_area,HBox([btn_submit, btn_setfilter, btn_clearfilter]), fig])"
   ]
  },
  {
   "cell_type": "markdown",
   "metadata": {},
   "source": [
    "## Visualization 2.0\n",
    "#### Building Filter with a server\n"
   ]
  },
  {
   "cell_type": "code",
   "execution_count": 23,
   "metadata": {},
   "outputs": [],
   "source": [
    "import dash\n",
    "import dash_core_components as dcc\n",
    "import dash_html_components as html\n",
    "from dash.dependencies import Input, Output, State\n",
    "from dash.exceptions import PreventUpdate"
   ]
  },
  {
   "cell_type": "code",
   "execution_count": 39,
   "metadata": {},
   "outputs": [],
   "source": [
    "from IPython import display\n",
    "import os\n",
    "def show_app(app, port = 9999, width = 700, height = 350, offline = False, in_binder = None):\n",
    "    url = 'http://localhost:%d' % port    \n",
    "    iframe = '<a href=\"{url}\" target=\"_new\">Open in new window</a>'.format(url = url)\n",
    "    \n",
    "    display.display_html(iframe, raw = True)\n",
    "    if offline:\n",
    "        app.css.config.serve_locally = True\n",
    "        app.scripts.config.serve_locally = True\n",
    "        \n",
    "    return app.run_server(debug=False, host = 'localhost', port=port)"
   ]
  },
  {
   "cell_type": "code",
   "execution_count": 25,
   "metadata": {},
   "outputs": [],
   "source": [
    "event_arr= data.event.unique()\n",
    "\n",
    "#append a stylesheet to the html-site\n",
    "external_stylesheets = ['https://codepen.io/chriddyp/pen/bWLwgP.css']\n",
    "\n",
    "app_simple = dash.Dash(__name__, external_stylesheets=external_stylesheets)\n",
    "app_simple.layout = html.Div(children=[\n",
    "        html.H1(children='Visualization'),\n",
    "        html.Label(\n",
    "            [\n",
    "                \"Filter:\",\n",
    "                dcc.Dropdown(id=\"multi-dynamic-dropdown\", options=[\n",
    "                    {'label': i, 'value': i} for i in event_arr\n",
    "                ], multi=True, placeholder='Filter nach events...'),\n",
    "            ]\n",
    "        ),\n",
    "        html.Button('Submit', id='submit-btn', style={\"background\": \"grey\", \"color\":\"white\", \"margin-top\":\"10px\"}),\n",
    "        html.Button('Set All', id='set-all-btn', style={\"background\":\"blue\", \"color\":\"white\", \"margin-top\":\"10px\", \"margin-left\":\"5px\"}),\n",
    "        html.Button('Delete All', id='delete-all-btn', style={\"background\":\"red\", \"color\":\"white\", \"margin-top\":\"10px\", \"margin-left\":\"5px\"}),\n",
    "        dcc.Loading(id=\"loading-icon\", children=[html.Div([\n",
    "            dcc.Graph(id=\"graph\", style={\"width\": \"100%\", \"height\": \"70vh\", \"display\": \"inline-block\"},\n",
    "            figure=px.scatter(data, x=\"ts\", y=\"case\", color=\"event\"))\n",
    "        ])] )\n",
    "    ]\n",
    ")\n",
    "\n",
    "@app_simple.callback(\n",
    "    Output('graph', 'figure'),\n",
    "    [Input('submit-btn', 'n_clicks'), Input('set-all-btn', 'n_clicks'), Input('delete-all-btn', 'n_clicks')],\n",
    "    [State('multi-dynamic-dropdown', 'value')])\n",
    "def update_output(submit, set_all, delete_all,value):\n",
    "    ctx = dash.callback_context\n",
    "    if value == None:\n",
    "        raise PreventUpdate()\n",
    "    else:\n",
    "        selected_data = data.loc[data.event.isin(value)]    \n",
    "    if (submit != None or set_all != None or delete_all != None):\n",
    "        button_id = ctx.triggered[0]['prop_id'].split('.')[0]\n",
    "        if button_id == 'submit-btn':           \n",
    "            return px.scatter(selected_data, x=\"ts\", y=\"case\", color=\"event\")\n",
    "        elif button_id == 'set-all-btn':\n",
    "            return px.scatter(data, x=\"ts\", y=\"case\", color=\"event\")\n",
    "        elif button_id == 'delete-all-btn':\n",
    "            arr = []\n",
    "            selected_data = data.loc[data.event.isin(arr)]\n",
    "            return px.scatter(selected_data, x=\"ts\", y=\"case\", color=\"event\")\n",
    "        "
   ]
  },
  {
   "cell_type": "code",
   "execution_count": 40,
   "metadata": {
    "scrolled": false
   },
   "outputs": [
    {
     "data": {
      "text/html": [
       "<a href=\"http://localhost:9999\" target=\"_new\">Open in new window</a>"
      ]
     },
     "metadata": {},
     "output_type": "display_data"
    },
    {
     "name": "stdout",
     "output_type": "stream",
     "text": [
      " * Serving Flask app \"__main__\" (lazy loading)\n",
      " * Environment: production\n",
      "   WARNING: This is a development server. Do not use it in a production deployment.\n",
      "   Use a production WSGI server instead.\n",
      " * Debug mode: off\n"
     ]
    },
    {
     "name": "stderr",
     "output_type": "stream",
     "text": [
      " * Running on http://localhost:9999/ (Press CTRL+C to quit)\n",
      "127.0.0.1 - - [25/Jan/2020 20:18:52] \"GET / HTTP/1.1\" 200 -\n",
      "127.0.0.1 - - [25/Jan/2020 20:18:53] \"GET /_dash-dependencies HTTP/1.1\" 200 -\n",
      "127.0.0.1 - - [25/Jan/2020 20:18:58] \"GET /_dash-layout HTTP/1.1\" 200 -\n",
      "127.0.0.1 - - [25/Jan/2020 20:18:59] \"POST /_dash-update-component HTTP/1.1\" 204 -\n",
      "127.0.0.1 - - [25/Jan/2020 20:19:13] \"POST /_dash-update-component HTTP/1.1\" 200 -\n"
     ]
    }
   ],
   "source": [
    "show_app(app_simple)"
   ]
  }
 ],
 "metadata": {
  "kernelspec": {
   "display_name": "Python 3",
   "language": "python",
   "name": "python3"
  },
  "language_info": {
   "codemirror_mode": {
    "name": "ipython",
    "version": 3
   },
   "file_extension": ".py",
   "mimetype": "text/x-python",
   "name": "python",
   "nbconvert_exporter": "python",
   "pygments_lexer": "ipython3",
   "version": "3.7.4"
  }
 },
 "nbformat": 4,
 "nbformat_minor": 2
}
